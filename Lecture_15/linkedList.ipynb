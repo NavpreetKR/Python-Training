{
 "cells": [
  {
   "cell_type": "code",
   "execution_count": 1,
   "metadata": {},
   "outputs": [],
   "source": [
    "class Node:\n",
    "    def __init__(self,value,nxt = None):\n",
    "        self.value = value\n",
    "        self.next = nxt\n",
    "        "
   ]
  },
  {
   "cell_type": "code",
   "execution_count": 34,
   "metadata": {},
   "outputs": [],
   "source": [
    "class LinkedList:\n",
    "    def __init__(self):\n",
    "        self.head = None\n",
    "        self.tail = None\n",
    "        self.size = 0\n",
    "        \n",
    "    def insertFirst(self, value):\n",
    "        node = Node(value, self.head)   #value can be str/int type ref\n",
    "        self.head = node                    #next is a node type ref\n",
    "        \n",
    "        \n",
    "        if self.tail == None:\n",
    "            self.tail = self.head\n",
    "            \n",
    "        self.size += 1\n",
    "    \n",
    "    def insertLast(self, value):\n",
    "        if self.size ==0:\n",
    "            self.InsertFirst(value)\n",
    "            return\n",
    "        node = Node(value)\n",
    "        self.tail.next = node\n",
    "        self.tail = node\n",
    "        \n",
    "        self.size += 1\n",
    "    \n",
    "    def insert(self, index, value):\n",
    "        if index not in range(0,self.size+1):\n",
    "            print(\"You Mad Bro?\")\n",
    "            return\n",
    "        if index == self.size:\n",
    "            self.insertLast(value)\n",
    "            return\n",
    "        if index == 0:\n",
    "            self.insertFirst(value)\n",
    "            return\n",
    "        \n",
    "        prev = self.__seek(index-1)\n",
    "        node = Node(value)\n",
    "        node.next = prev.next\n",
    "        prev.next = node\n",
    "        self.size += 1\n",
    "        \n",
    "    def __seek(self, index):\n",
    "        node = self.head\n",
    "        for i in range(index-1):\n",
    "            node = node.next            \n",
    "        return node    \n",
    "        \n",
    "    def delete(self,index):\n",
    "        if index == self.size-1:\n",
    "            return self.deleteLast()\n",
    "            \n",
    "        if index == 0:\n",
    "            return self.deleteFirst()\n",
    "            \n",
    "        prev = self.seek(index-1)\n",
    "        value = prev.next.value\n",
    "        prev.next = prev.next.next\n",
    "        \n",
    "        size -= 1\n",
    "        return value\n",
    "    \n",
    "    def deleteFirst(self):\n",
    "        if self.size == 0:\n",
    "            print(\"list is empty\")\n",
    "            return\n",
    "        \n",
    "        t = self.head.value\n",
    "        self.head = self.head.next\n",
    "        \n",
    "        self.size -= 1\n",
    "        \n",
    "        if self.head == None:\n",
    "            self.tail = None\n",
    "        return t   \n",
    "    \n",
    "    def deleteLast(self):\n",
    "        if self.size <= 1:\n",
    "            return deleteFirst()\n",
    "        \n",
    "        second_last = self.head\n",
    "        while second_last.next.next != None:\n",
    "            second_last = second_last.next\n",
    "        value = self.tail.value\n",
    "        self.tail = second_last\n",
    "        self.tail.next = None\n",
    "        \n",
    "        self.size -= 1\n",
    "        return value\n",
    "        \n",
    "    def __repr__(self):\n",
    "        temp = self.head\n",
    "        ans = \"\"\n",
    "        while temp!=None:\n",
    "            ans = ans + str(temp.value) + \"->\"\n",
    "            temp = temp.next\n",
    "        return ans\n",
    "    \n",
    "    def reverse(self): #HOMEWORK....\n",
    "        \n",
    "        "
   ]
  },
  {
   "cell_type": "code",
   "execution_count": 35,
   "metadata": {},
   "outputs": [],
   "source": [
    "ll = LinkedList()"
   ]
  },
  {
   "cell_type": "code",
   "execution_count": 36,
   "metadata": {},
   "outputs": [],
   "source": [
    "ll.insertFirst(\"Nately\")"
   ]
  },
  {
   "cell_type": "code",
   "execution_count": 37,
   "metadata": {},
   "outputs": [],
   "source": [
    "ll.insertFirst(\"Fred\")"
   ]
  },
  {
   "cell_type": "code",
   "execution_count": 38,
   "metadata": {},
   "outputs": [
    {
     "data": {
      "text/plain": [
       "Fred->Nately->"
      ]
     },
     "execution_count": 38,
     "metadata": {},
     "output_type": "execute_result"
    }
   ],
   "source": [
    "ll"
   ]
  },
  {
   "cell_type": "code",
   "execution_count": 39,
   "metadata": {},
   "outputs": [],
   "source": [
    "ll.insertLast(\"Alex\")"
   ]
  },
  {
   "cell_type": "code",
   "execution_count": 40,
   "metadata": {},
   "outputs": [
    {
     "data": {
      "text/plain": [
       "Fred->Nately->Alex->"
      ]
     },
     "execution_count": 40,
     "metadata": {},
     "output_type": "execute_result"
    }
   ],
   "source": [
    "ll"
   ]
  },
  {
   "cell_type": "code",
   "execution_count": 41,
   "metadata": {},
   "outputs": [
    {
     "data": {
      "text/plain": [
       "'Fred'"
      ]
     },
     "execution_count": 41,
     "metadata": {},
     "output_type": "execute_result"
    }
   ],
   "source": [
    "ll.deleteFirst()"
   ]
  },
  {
   "cell_type": "code",
   "execution_count": 42,
   "metadata": {},
   "outputs": [
    {
     "data": {
      "text/plain": [
       "Nately->Alex->"
      ]
     },
     "execution_count": 42,
     "metadata": {},
     "output_type": "execute_result"
    }
   ],
   "source": [
    "ll"
   ]
  },
  {
   "cell_type": "code",
   "execution_count": 43,
   "metadata": {},
   "outputs": [
    {
     "data": {
      "text/plain": [
       "'Alex'"
      ]
     },
     "execution_count": 43,
     "metadata": {},
     "output_type": "execute_result"
    }
   ],
   "source": [
    "ll.deleteLast()"
   ]
  },
  {
   "cell_type": "code",
   "execution_count": 44,
   "metadata": {},
   "outputs": [
    {
     "data": {
      "text/plain": [
       "Nately->"
      ]
     },
     "execution_count": 44,
     "metadata": {},
     "output_type": "execute_result"
    }
   ],
   "source": [
    "ll"
   ]
  },
  {
   "cell_type": "code",
   "execution_count": 45,
   "metadata": {},
   "outputs": [],
   "source": [
    "ll.insertLast(\"Evans\")"
   ]
  },
  {
   "cell_type": "code",
   "execution_count": 46,
   "metadata": {},
   "outputs": [],
   "source": [
    "ll.insertFirst(\"Ellis\")"
   ]
  },
  {
   "cell_type": "code",
   "execution_count": 47,
   "metadata": {},
   "outputs": [
    {
     "data": {
      "text/plain": [
       "Ellis->Nately->Evans->"
      ]
     },
     "execution_count": 47,
     "metadata": {},
     "output_type": "execute_result"
    }
   ],
   "source": [
    "ll"
   ]
  },
  {
   "cell_type": "code",
   "execution_count": 48,
   "metadata": {},
   "outputs": [],
   "source": [
    "ll.insert(3,\"Scarlet\")"
   ]
  },
  {
   "cell_type": "code",
   "execution_count": 49,
   "metadata": {},
   "outputs": [
    {
     "data": {
      "text/plain": [
       "Ellis->Nately->Evans->Scarlet->"
      ]
     },
     "execution_count": 49,
     "metadata": {},
     "output_type": "execute_result"
    }
   ],
   "source": [
    "ll"
   ]
  },
  {
   "cell_type": "code",
   "execution_count": 50,
   "metadata": {},
   "outputs": [],
   "source": [
    "ll.delete(3)"
   ]
  },
  {
   "cell_type": "code",
   "execution_count": 51,
   "metadata": {},
   "outputs": [
    {
     "data": {
      "text/plain": [
       "Ellis->Nately->Evans->"
      ]
     },
     "execution_count": 51,
     "metadata": {},
     "output_type": "execute_result"
    }
   ],
   "source": [
    "ll"
   ]
  },
  {
   "cell_type": "code",
   "execution_count": null,
   "metadata": {},
   "outputs": [],
   "source": []
  }
 ],
 "metadata": {
  "kernelspec": {
   "display_name": "Python 3",
   "language": "python",
   "name": "python3"
  },
  "language_info": {
   "codemirror_mode": {
    "name": "ipython",
    "version": 3
   },
   "file_extension": ".py",
   "mimetype": "text/x-python",
   "name": "python",
   "nbconvert_exporter": "python",
   "pygments_lexer": "ipython3",
   "version": "3.6.5"
  }
 },
 "nbformat": 4,
 "nbformat_minor": 2
}
