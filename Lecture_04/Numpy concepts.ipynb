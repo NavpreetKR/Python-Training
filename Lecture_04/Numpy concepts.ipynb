{
 "cells": [
  {
   "cell_type": "code",
   "execution_count": 50,
   "metadata": {},
   "outputs": [],
   "source": [
    "import numpy as np\n",
    "import matplotlib.pyplot as plt"
   ]
  },
  {
   "cell_type": "code",
   "execution_count": 4,
   "metadata": {},
   "outputs": [
    {
     "data": {
      "text/plain": [
       "array([ 0.        ,  0.71428571,  1.42857143,  2.14285714,  2.85714286,\n",
       "        3.57142857,  4.28571429,  5.        ,  5.71428571,  6.42857143,\n",
       "        7.14285714,  7.85714286,  8.57142857,  9.28571429, 10.        ])"
      ]
     },
     "execution_count": 4,
     "metadata": {},
     "output_type": "execute_result"
    }
   ],
   "source": [
    "np.linspace(0,10,15) #linear spacing"
   ]
  },
  {
   "cell_type": "code",
   "execution_count": 5,
   "metadata": {},
   "outputs": [],
   "source": [
    "first = np.arange(20).reshape(4,5)"
   ]
  },
  {
   "cell_type": "code",
   "execution_count": 6,
   "metadata": {},
   "outputs": [],
   "source": [
    "second = np.arange(30,50).reshape(4,5)"
   ]
  },
  {
   "cell_type": "code",
   "execution_count": 7,
   "metadata": {},
   "outputs": [
    {
     "data": {
      "text/plain": [
       "array([[ 0,  1,  2,  3,  4],\n",
       "       [ 5,  6,  7,  8,  9],\n",
       "       [10, 11, 12, 13, 14],\n",
       "       [15, 16, 17, 18, 19]])"
      ]
     },
     "execution_count": 7,
     "metadata": {},
     "output_type": "execute_result"
    }
   ],
   "source": [
    "first"
   ]
  },
  {
   "cell_type": "code",
   "execution_count": 8,
   "metadata": {},
   "outputs": [
    {
     "data": {
      "text/plain": [
       "array([[30, 31, 32, 33, 34],\n",
       "       [35, 36, 37, 38, 39],\n",
       "       [40, 41, 42, 43, 44],\n",
       "       [45, 46, 47, 48, 49]])"
      ]
     },
     "execution_count": 8,
     "metadata": {},
     "output_type": "execute_result"
    }
   ],
   "source": [
    "second"
   ]
  },
  {
   "cell_type": "code",
   "execution_count": 9,
   "metadata": {},
   "outputs": [
    {
     "data": {
      "text/plain": [
       "array([[30, 32, 34, 36, 38],\n",
       "       [40, 42, 44, 46, 48],\n",
       "       [50, 52, 54, 56, 58],\n",
       "       [60, 62, 64, 66, 68]])"
      ]
     },
     "execution_count": 9,
     "metadata": {},
     "output_type": "execute_result"
    }
   ],
   "source": [
    "first + second"
   ]
  },
  {
   "cell_type": "code",
   "execution_count": 10,
   "metadata": {},
   "outputs": [
    {
     "data": {
      "text/plain": [
       "array([[  0,  31,  64,  99, 136],\n",
       "       [175, 216, 259, 304, 351],\n",
       "       [400, 451, 504, 559, 616],\n",
       "       [675, 736, 799, 864, 931]])"
      ]
     },
     "execution_count": 10,
     "metadata": {},
     "output_type": "execute_result"
    }
   ],
   "source": [
    "first * second #will give us a new array"
   ]
  },
  {
   "cell_type": "code",
   "execution_count": 14,
   "metadata": {},
   "outputs": [
    {
     "data": {
      "text/plain": [
       "array([[0, 0, 0, 0, 0],\n",
       "       [0, 0, 0, 0, 0],\n",
       "       [0, 0, 0, 0, 0],\n",
       "       [0, 0, 0, 0, 0]], dtype=int32)"
      ]
     },
     "execution_count": 14,
     "metadata": {},
     "output_type": "execute_result"
    }
   ],
   "source": [
    "first // second #float division"
   ]
  },
  {
   "cell_type": "code",
   "execution_count": 15,
   "metadata": {},
   "outputs": [
    {
     "data": {
      "text/plain": [
       "190"
      ]
     },
     "execution_count": 15,
     "metadata": {},
     "output_type": "execute_result"
    }
   ],
   "source": [
    "first.sum() #/ np.sum(first) sum of all items in first"
   ]
  },
  {
   "cell_type": "code",
   "execution_count": 17,
   "metadata": {},
   "outputs": [
    {
     "data": {
      "text/plain": [
       "array([30, 34, 38, 42, 46])"
      ]
     },
     "execution_count": 17,
     "metadata": {},
     "output_type": "execute_result"
    }
   ],
   "source": [
    "first.sum(axis=0) #row wise sum/ about axis 0 sum"
   ]
  },
  {
   "cell_type": "code",
   "execution_count": 18,
   "metadata": {},
   "outputs": [
    {
     "data": {
      "text/plain": [
       "array([10, 35, 60, 85])"
      ]
     },
     "execution_count": 18,
     "metadata": {},
     "output_type": "execute_result"
    }
   ],
   "source": [
    "first.sum(axis=1)"
   ]
  },
  {
   "cell_type": "code",
   "execution_count": 19,
   "metadata": {},
   "outputs": [
    {
     "data": {
      "text/plain": [
       "0"
      ]
     },
     "execution_count": 19,
     "metadata": {},
     "output_type": "execute_result"
    }
   ],
   "source": [
    "first.prod()"
   ]
  },
  {
   "cell_type": "code",
   "execution_count": 21,
   "metadata": {},
   "outputs": [
    {
     "data": {
      "text/plain": [
       "array([      0,   15120,  240240, 1395360])"
      ]
     },
     "execution_count": 21,
     "metadata": {},
     "output_type": "execute_result"
    }
   ],
   "source": [
    "first.prod(axis=1)"
   ]
  },
  {
   "cell_type": "code",
   "execution_count": 20,
   "metadata": {},
   "outputs": [
    {
     "data": {
      "text/plain": [
       "1285554176"
      ]
     },
     "execution_count": 20,
     "metadata": {},
     "output_type": "execute_result"
    }
   ],
   "source": [
    "second.prod()"
   ]
  },
  {
   "cell_type": "code",
   "execution_count": 22,
   "metadata": {},
   "outputs": [
    {
     "data": {
      "text/plain": [
       "9.5"
      ]
     },
     "execution_count": 22,
     "metadata": {},
     "output_type": "execute_result"
    }
   ],
   "source": [
    "first.mean()"
   ]
  },
  {
   "cell_type": "code",
   "execution_count": 23,
   "metadata": {},
   "outputs": [
    {
     "data": {
      "text/plain": [
       "array([ 7.5,  8.5,  9.5, 10.5, 11.5])"
      ]
     },
     "execution_count": 23,
     "metadata": {},
     "output_type": "execute_result"
    }
   ],
   "source": [
    "first.mean(axis=0)"
   ]
  },
  {
   "cell_type": "code",
   "execution_count": 27,
   "metadata": {},
   "outputs": [
    {
     "data": {
      "text/plain": [
       "array([15, 13])"
      ]
     },
     "execution_count": 27,
     "metadata": {},
     "output_type": "execute_result"
    }
   ],
   "source": [
    "np.sum([[12,3],[6,7]], axis =1)"
   ]
  },
  {
   "cell_type": "code",
   "execution_count": 28,
   "metadata": {},
   "outputs": [
    {
     "data": {
      "text/plain": [
       "array([ 7.5,  8.5,  9.5, 10.5, 11.5])"
      ]
     },
     "execution_count": 28,
     "metadata": {},
     "output_type": "execute_result"
    }
   ],
   "source": [
    "np.median(first,axis=0)"
   ]
  },
  {
   "cell_type": "code",
   "execution_count": 29,
   "metadata": {},
   "outputs": [],
   "source": [
    "#median not available directly but can be used through np liberary"
   ]
  },
  {
   "cell_type": "code",
   "execution_count": 30,
   "metadata": {},
   "outputs": [
    {
     "data": {
      "text/plain": [
       "array([[10, 11, 12, 13, 14],\n",
       "       [15, 16, 17, 18, 19],\n",
       "       [20, 21, 22, 23, 24],\n",
       "       [25, 26, 27, 28, 29]])"
      ]
     },
     "execution_count": 30,
     "metadata": {},
     "output_type": "execute_result"
    }
   ],
   "source": [
    "first + 10 # -, *, /, **, applicable"
   ]
  },
  {
   "cell_type": "code",
   "execution_count": 31,
   "metadata": {},
   "outputs": [
    {
     "data": {
      "text/plain": [
       "array([[ 0,  5, 10, 15],\n",
       "       [ 1,  6, 11, 16],\n",
       "       [ 2,  7, 12, 17],\n",
       "       [ 3,  8, 13, 18],\n",
       "       [ 4,  9, 14, 19]])"
      ]
     },
     "execution_count": 31,
     "metadata": {},
     "output_type": "execute_result"
    }
   ],
   "source": [
    "first.T #transpose"
   ]
  },
  {
   "cell_type": "code",
   "execution_count": 32,
   "metadata": {},
   "outputs": [
    {
     "data": {
      "text/plain": [
       "array([[  30,   80,  130,  180],\n",
       "       [  80,  255,  430,  605],\n",
       "       [ 130,  430,  730, 1030],\n",
       "       [ 180,  605, 1030, 1455]])"
      ]
     },
     "execution_count": 32,
     "metadata": {},
     "output_type": "execute_result"
    }
   ],
   "source": [
    "np.dot(first, first.T)"
   ]
  },
  {
   "cell_type": "code",
   "execution_count": 33,
   "metadata": {},
   "outputs": [
    {
     "data": {
      "text/plain": [
       "array([[350, 380, 410, 440, 470],\n",
       "       [380, 414, 448, 482, 516],\n",
       "       [410, 448, 486, 524, 562],\n",
       "       [440, 482, 524, 566, 608],\n",
       "       [470, 516, 562, 608, 654]])"
      ]
     },
     "execution_count": 33,
     "metadata": {},
     "output_type": "execute_result"
    }
   ],
   "source": [
    "np.dot(first.T,first)"
   ]
  },
  {
   "cell_type": "code",
   "execution_count": 34,
   "metadata": {},
   "outputs": [
    {
     "data": {
      "text/plain": [
       "array([[False, False, False, False, False],\n",
       "       [False, False, False, False, False],\n",
       "       [False,  True,  True,  True,  True],\n",
       "       [ True,  True,  True,  True,  True]])"
      ]
     },
     "execution_count": 34,
     "metadata": {},
     "output_type": "execute_result"
    }
   ],
   "source": [
    "first > 10"
   ]
  },
  {
   "cell_type": "code",
   "execution_count": 35,
   "metadata": {},
   "outputs": [
    {
     "data": {
      "text/plain": [
       "0.1830087644841697"
      ]
     },
     "execution_count": 35,
     "metadata": {},
     "output_type": "execute_result"
    }
   ],
   "source": [
    "np.random.rand()"
   ]
  },
  {
   "cell_type": "code",
   "execution_count": 36,
   "metadata": {},
   "outputs": [],
   "source": [
    "import random"
   ]
  },
  {
   "cell_type": "code",
   "execution_count": 37,
   "metadata": {},
   "outputs": [
    {
     "data": {
      "text/plain": [
       "0.5086841839557918"
      ]
     },
     "execution_count": 37,
     "metadata": {},
     "output_type": "execute_result"
    }
   ],
   "source": [
    "random.random()"
   ]
  },
  {
   "cell_type": "code",
   "execution_count": 38,
   "metadata": {},
   "outputs": [
    {
     "data": {
      "text/plain": [
       "0.4788280736516449"
      ]
     },
     "execution_count": 38,
     "metadata": {},
     "output_type": "execute_result"
    }
   ],
   "source": [
    "random.random()"
   ]
  },
  {
   "cell_type": "code",
   "execution_count": 39,
   "metadata": {},
   "outputs": [
    {
     "data": {
      "text/plain": [
       "array([[19, 11, 12, 13, 14, 10, 12, 10, 11, 14],\n",
       "       [19, 17, 18, 15, 19, 12, 15, 16, 13, 19],\n",
       "       [11, 15, 15, 10, 17, 17, 15, 16, 17, 19],\n",
       "       [18, 10, 15, 11, 14, 15, 19, 17, 17, 11],\n",
       "       [10, 13, 11, 11, 16, 13, 14, 12, 17, 12],\n",
       "       [18, 18, 11, 15, 12, 12, 12, 12, 15, 16],\n",
       "       [14, 17, 11, 14, 12, 16, 11, 18, 12, 14],\n",
       "       [11, 17, 10, 19, 16, 14, 14, 17, 13, 13],\n",
       "       [12, 16, 16, 10, 16, 18, 12, 14, 13, 16],\n",
       "       [11, 13, 16, 19, 10, 12, 12, 17, 15, 13]])"
      ]
     },
     "execution_count": 39,
     "metadata": {},
     "output_type": "execute_result"
    }
   ],
   "source": [
    "np.random.randint(10,20,(10,10))"
   ]
  },
  {
   "cell_type": "code",
   "execution_count": 46,
   "metadata": {},
   "outputs": [],
   "source": [
    "a = np.random.randn(100) #normal distribution"
   ]
  },
  {
   "cell_type": "code",
   "execution_count": 47,
   "metadata": {},
   "outputs": [
    {
     "data": {
      "text/plain": [
       "-0.14009746442012314"
      ]
     },
     "execution_count": 47,
     "metadata": {},
     "output_type": "execute_result"
    }
   ],
   "source": [
    "a.mean()"
   ]
  },
  {
   "cell_type": "code",
   "execution_count": 48,
   "metadata": {},
   "outputs": [],
   "source": [
    "b = np.random.uniform(10,20,10000)"
   ]
  },
  {
   "cell_type": "code",
   "execution_count": 51,
   "metadata": {},
   "outputs": [
    {
     "data": {
      "text/plain": [
       "(array([100.,  93., 100., 104.,  94., 116.,  89., 102.,  91., 102.,  94.,\n",
       "        100., 106.,  88., 108., 107., 107., 109., 101., 102.,  86., 100.,\n",
       "        114.,  94.,  93., 113., 107., 110., 103., 104., 113., 107.,  98.,\n",
       "        112., 103., 100.,  93.,  87.,  98.,  84., 113., 105.,  94.,  96.,\n",
       "        103., 101., 106., 101.,  99., 104.,  88., 110.,  86.,  96.,  95.,\n",
       "         95., 102., 115., 114., 114., 106.,  86., 111.,  90., 104., 114.,\n",
       "        107.,  84.,  97., 113., 101., 104.,  96.,  90.,  98.,  88.,  95.,\n",
       "        101.,  94., 106., 107., 102., 129.,  97.,  79.,  89., 118., 102.,\n",
       "        111.,  79.,  96.,  89., 104.,  75.,  88., 102.,  97.,  92.,  94.,\n",
       "         96.]),\n",
       " array([10.00215949, 10.1021324 , 10.2021053 , 10.30207821, 10.40205111,\n",
       "        10.50202402, 10.60199692, 10.70196982, 10.80194273, 10.90191563,\n",
       "        11.00188854, 11.10186144, 11.20183435, 11.30180725, 11.40178015,\n",
       "        11.50175306, 11.60172596, 11.70169887, 11.80167177, 11.90164468,\n",
       "        12.00161758, 12.10159048, 12.20156339, 12.30153629, 12.4015092 ,\n",
       "        12.5014821 , 12.60145501, 12.70142791, 12.80140081, 12.90137372,\n",
       "        13.00134662, 13.10131953, 13.20129243, 13.30126534, 13.40123824,\n",
       "        13.50121114, 13.60118405, 13.70115695, 13.80112986, 13.90110276,\n",
       "        14.00107567, 14.10104857, 14.20102147, 14.30099438, 14.40096728,\n",
       "        14.50094019, 14.60091309, 14.700886  , 14.8008589 , 14.9008318 ,\n",
       "        15.00080471, 15.10077761, 15.20075052, 15.30072342, 15.40069633,\n",
       "        15.50066923, 15.60064213, 15.70061504, 15.80058794, 15.90056085,\n",
       "        16.00053375, 16.10050666, 16.20047956, 16.30045246, 16.40042537,\n",
       "        16.50039827, 16.60037118, 16.70034408, 16.80031699, 16.90028989,\n",
       "        17.00026279, 17.1002357 , 17.2002086 , 17.30018151, 17.40015441,\n",
       "        17.50012732, 17.60010022, 17.70007312, 17.80004603, 17.90001893,\n",
       "        17.99999184, 18.09996474, 18.19993765, 18.29991055, 18.39988345,\n",
       "        18.49985636, 18.59982926, 18.69980217, 18.79977507, 18.89974798,\n",
       "        18.99972088, 19.09969378, 19.19966669, 19.29963959, 19.3996125 ,\n",
       "        19.4995854 , 19.59955831, 19.69953121, 19.79950411, 19.89947702,\n",
       "        19.99944992]),\n",
       " <a list of 100 Patch objects>)"
      ]
     },
     "execution_count": 51,
     "metadata": {},
     "output_type": "execute_result"
    },
    {
     "data": {
      "image/png": "[encoded data removed]",
      "text/plain": [
       "<Figure size 432x288 with 1 Axes>"
      ]
     },
     "metadata": {},
     "output_type": "display_data"
    }
   ],
   "source": [
    "plt.hist(b, bins=100)"
   ]
  },
  {
   "cell_type": "code",
   "execution_count": 52,
   "metadata": {},
   "outputs": [],
   "source": [
    "x = np.linspace(0,2 * np.pi , 100)"
   ]
  },
  {
   "cell_type": "code",
   "execution_count": 53,
   "metadata": {},
   "outputs": [],
   "source": [
    "y = np.sin(x)"
   ]
  },
  {
   "cell_type": "code",
   "execution_count": 54,
   "metadata": {},
   "outputs": [
    {
     "data": {
      "text/plain": [
       "array([ 0.00000000e+00,  6.34239197e-02,  1.26592454e-01,  1.89251244e-01,\n",
       "        2.51147987e-01,  3.12033446e-01,  3.71662456e-01,  4.29794912e-01,\n",
       "        4.86196736e-01,  5.40640817e-01,  5.92907929e-01,  6.42787610e-01,\n",
       "        6.90079011e-01,  7.34591709e-01,  7.76146464e-01,  8.14575952e-01,\n",
       "        8.49725430e-01,  8.81453363e-01,  9.09631995e-01,  9.34147860e-01,\n",
       "        9.54902241e-01,  9.71811568e-01,  9.84807753e-01,  9.93838464e-01,\n",
       "        9.98867339e-01,  9.99874128e-01,  9.96854776e-01,  9.89821442e-01,\n",
       "        9.78802446e-01,  9.63842159e-01,  9.45000819e-01,  9.22354294e-01,\n",
       "        8.95993774e-01,  8.66025404e-01,  8.32569855e-01,  7.95761841e-01,\n",
       "        7.55749574e-01,  7.12694171e-01,  6.66769001e-01,  6.18158986e-01,\n",
       "        5.67059864e-01,  5.13677392e-01,  4.58226522e-01,  4.00930535e-01,\n",
       "        3.42020143e-01,  2.81732557e-01,  2.20310533e-01,  1.58001396e-01,\n",
       "        9.50560433e-02,  3.17279335e-02, -3.17279335e-02, -9.50560433e-02,\n",
       "       -1.58001396e-01, -2.20310533e-01, -2.81732557e-01, -3.42020143e-01,\n",
       "       -4.00930535e-01, -4.58226522e-01, -5.13677392e-01, -5.67059864e-01,\n",
       "       -6.18158986e-01, -6.66769001e-01, -7.12694171e-01, -7.55749574e-01,\n",
       "       -7.95761841e-01, -8.32569855e-01, -8.66025404e-01, -8.95993774e-01,\n",
       "       -9.22354294e-01, -9.45000819e-01, -9.63842159e-01, -9.78802446e-01,\n",
       "       -9.89821442e-01, -9.96854776e-01, -9.99874128e-01, -9.98867339e-01,\n",
       "       -9.93838464e-01, -9.84807753e-01, -9.71811568e-01, -9.54902241e-01,\n",
       "       -9.34147860e-01, -9.09631995e-01, -8.81453363e-01, -8.49725430e-01,\n",
       "       -8.14575952e-01, -7.76146464e-01, -7.34591709e-01, -6.90079011e-01,\n",
       "       -6.42787610e-01, -5.92907929e-01, -5.40640817e-01, -4.86196736e-01,\n",
       "       -4.29794912e-01, -3.71662456e-01, -3.12033446e-01, -2.51147987e-01,\n",
       "       -1.89251244e-01, -1.26592454e-01, -6.34239197e-02, -2.44929360e-16])"
      ]
     },
     "execution_count": 54,
     "metadata": {},
     "output_type": "execute_result"
    }
   ],
   "source": [
    "y"
   ]
  },
  {
   "cell_type": "code",
   "execution_count": 55,
   "metadata": {},
   "outputs": [
    {
     "data": {
      "text/plain": [
       "[<matplotlib.lines.Line2D at 0x25d08e98f98>]"
      ]
     },
     "execution_count": 55,
     "metadata": {},
     "output_type": "execute_result"
    },
    {
     "data": {
      "image/png": "[encoded data removed]",
      "text/plain": [
       "<Figure size 432x288 with 1 Axes>"
      ]
     },
     "metadata": {},
     "output_type": "display_data"
    }
   ],
   "source": [
    "plt.plot(x,y)"
   ]
  },
  {
   "cell_type": "code",
   "execution_count": 59,
   "metadata": {},
   "outputs": [],
   "source": [
    "x = np.linspace(0,2 * np.pi , 100)"
   ]
  },
  {
   "cell_type": "code",
   "execution_count": 60,
   "metadata": {},
   "outputs": [],
   "source": [
    "y = np.tan(x)"
   ]
  },
  {
   "cell_type": "code",
   "execution_count": 63,
   "metadata": {},
   "outputs": [
    {
     "data": {
      "text/plain": [
       "array([ 0.00000000e+00,  6.35518701e-02,  1.27619174e-01,  1.92734202e-01,\n",
       "        2.59464150e-01,  3.28431672e-01,  4.00339609e-01,  4.76002082e-01,\n",
       "        5.56385058e-01,  6.42660977e-01,  7.36284401e-01,  8.39099631e-01,\n",
       "        9.53498074e-01,  1.08265515e+00,  1.23089871e+00,  1.40430351e+00,\n",
       "        1.61169269e+00,  1.86641404e+00,  2.18969456e+00,  2.61749489e+00,\n",
       "        3.21602127e+00,  4.12205614e+00,  5.67128182e+00,  8.96656988e+00,\n",
       "        2.09925835e+01, -6.30200685e+01, -1.25786160e+01, -6.95515277e+00,\n",
       "       -4.77915322e+00, -3.61702392e+00, -2.88931025e+00, -2.38738432e+00,\n",
       "       -2.01770128e+00, -1.73205081e+00, -1.50305055e+00, -1.31398466e+00,\n",
       "       -1.15406152e+00, -1.01599385e+00, -8.94674368e-01, -7.86408692e-01,\n",
       "       -6.88449662e-01, -5.98703173e-01, -5.15535831e-01, -4.37645272e-01,\n",
       "       -3.63970234e-01, -2.93626493e-01, -2.25859960e-01, -1.60011316e-01,\n",
       "       -9.54884223e-02, -3.17439152e-02,  3.17439152e-02,  9.54884223e-02,\n",
       "        1.60011316e-01,  2.25859960e-01,  2.93626493e-01,  3.63970234e-01,\n",
       "        4.37645272e-01,  5.15535831e-01,  5.98703173e-01,  6.88449662e-01,\n",
       "        7.86408692e-01,  8.94674368e-01,  1.01599385e+00,  1.15406152e+00,\n",
       "        1.31398466e+00,  1.50305055e+00,  1.73205081e+00,  2.01770128e+00,\n",
       "        2.38738432e+00,  2.88931025e+00,  3.61702392e+00,  4.77915322e+00,\n",
       "        6.95515277e+00,  1.25786160e+01,  6.30200685e+01, -2.09925835e+01,\n",
       "       -8.96656988e+00, -5.67128182e+00, -4.12205614e+00, -3.21602127e+00,\n",
       "       -2.61749489e+00, -2.18969456e+00, -1.86641404e+00, -1.61169269e+00,\n",
       "       -1.40430351e+00, -1.23089871e+00, -1.08265515e+00, -9.53498074e-01,\n",
       "       -8.39099631e-01, -7.36284401e-01, -6.42660977e-01, -5.56385058e-01,\n",
       "       -4.76002082e-01, -4.00339609e-01, -3.28431672e-01, -2.59464150e-01,\n",
       "       -1.92734202e-01, -1.27619174e-01, -6.35518701e-02, -2.44929360e-16])"
      ]
     },
     "execution_count": 63,
     "metadata": {},
     "output_type": "execute_result"
    }
   ],
   "source": [
    "y"
   ]
  },
  {
   "cell_type": "code",
   "execution_count": 64,
   "metadata": {},
   "outputs": [
    {
     "data": {
      "text/plain": [
       "[<matplotlib.lines.Line2D at 0x25d08e20198>]"
      ]
     },
     "execution_count": 64,
     "metadata": {},
     "output_type": "execute_result"
    },
    {
     "data": {
      "image/png": "[encoded data removed]",
      "text/plain": [
       "<Figure size 432x288 with 1 Axes>"
      ]
     },
     "metadata": {},
     "output_type": "display_data"
    }
   ],
   "source": [
    "plt.plot(x,y)"
   ]
  },
  {
   "cell_type": "code",
   "execution_count": 65,
   "metadata": {},
   "outputs": [
    {
     "data": {
      "text/plain": [
       "array([0.00000000e+00, 4.02799894e-03, 1.61119958e-02, 3.62519905e-02,\n",
       "       6.44479830e-02, 1.00699973e-01, 1.45007962e-01, 1.97371948e-01,\n",
       "       2.57791932e-01, 3.26267914e-01, 4.02799894e-01, 4.87387872e-01,\n",
       "       5.80031847e-01, 6.80731821e-01, 7.89487792e-01, 9.06299761e-01,\n",
       "       1.03116773e+00, 1.16409169e+00, 1.30507166e+00, 1.45410762e+00,\n",
       "       1.61119958e+00, 1.77634753e+00, 1.94955149e+00, 2.13081144e+00,\n",
       "       2.32012739e+00, 2.51749934e+00, 2.72292728e+00, 2.93641123e+00,\n",
       "       3.15795117e+00, 3.38754711e+00, 3.62519905e+00, 3.87090698e+00,\n",
       "       4.12467091e+00, 4.38649084e+00, 4.65636677e+00, 4.93429870e+00,\n",
       "       5.22028663e+00, 5.51433055e+00, 5.81643047e+00, 6.12658639e+00,\n",
       "       6.44479830e+00, 6.77106622e+00, 7.10539013e+00, 7.44777004e+00,\n",
       "       7.79820595e+00, 8.15669785e+00, 8.52324576e+00, 8.89784966e+00,\n",
       "       9.28050956e+00, 9.67122545e+00, 1.00699973e+01, 1.04768252e+01,\n",
       "       1.08917091e+01, 1.13146490e+01, 1.17456449e+01, 1.21846968e+01,\n",
       "       1.26318047e+01, 1.30869686e+01, 1.35501884e+01, 1.40214643e+01,\n",
       "       1.45007962e+01, 1.49881841e+01, 1.54836279e+01, 1.59871278e+01,\n",
       "       1.64986837e+01, 1.70182955e+01, 1.75459634e+01, 1.80816872e+01,\n",
       "       1.86254671e+01, 1.91773030e+01, 1.97371948e+01, 2.03051427e+01,\n",
       "       2.08811465e+01, 2.14652063e+01, 2.20573222e+01, 2.26574940e+01,\n",
       "       2.32657219e+01, 2.38820057e+01, 2.45063455e+01, 2.51387414e+01,\n",
       "       2.57791932e+01, 2.64277010e+01, 2.70842649e+01, 2.77488847e+01,\n",
       "       2.84215605e+01, 2.91022923e+01, 2.97910802e+01, 3.04879240e+01,\n",
       "       3.11928238e+01, 3.19057796e+01, 3.26267914e+01, 3.33558592e+01,\n",
       "       3.40929830e+01, 3.48381628e+01, 3.55913986e+01, 3.63526904e+01,\n",
       "       3.71220382e+01, 3.78994420e+01, 3.86849018e+01, 3.94784176e+01])"
      ]
     },
     "execution_count": 65,
     "metadata": {},
     "output_type": "execute_result"
    }
   ],
   "source": [
    "x = np.linspace(0,2 * np.pi , 100)\n",
    "y = np.power(x,2)\n",
    "y"
   ]
  },
  {
   "cell_type": "code",
   "execution_count": 66,
   "metadata": {},
   "outputs": [
    {
     "data": {
      "text/plain": [
       "[<matplotlib.lines.Line2D at 0x25d091b6550>]"
      ]
     },
     "execution_count": 66,
     "metadata": {},
     "output_type": "execute_result"
    },
    {
     "data": {
      "image/png": "[encoded data removed]",
      "text/plain": [
       "<Figure size 432x288 with 1 Axes>"
      ]
     },
     "metadata": {},
     "output_type": "display_data"
    }
   ],
   "source": [
    "plt.plot(x,y)"
   ]
  },
  {
   "cell_type": "code",
   "execution_count": 71,
   "metadata": {},
   "outputs": [
    {
     "data": {
      "text/plain": [
       "array([1.00000000e+00, 8.39463233e-01, 7.69509544e-01, 7.29203448e-01,\n",
       "       7.06072545e-01, 6.94727293e-01, 6.92355874e-01, 6.97364393e-01,\n",
       "       7.08828636e-01, 7.26234981e-01, 7.49345286e-01, 7.78122051e-01,\n",
       "       8.12685800e-01, 8.53291099e-01, 9.00314196e-01, 9.54248433e-01,\n",
       "       1.01570530e+00, 1.08541997e+00, 1.16426057e+00, 1.25324116e+00,\n",
       "       1.35353806e+00, 1.46651000e+00, 1.59372216e+00, 1.73697472e+00,\n",
       "       1.89833633e+00, 2.08018336e+00, 2.28524569e+00, 2.51666009e+00,\n",
       "       2.77803246e+00, 3.07351034e+00, 3.40786736e+00, 3.78660173e+00,\n",
       "       4.21605108e+00, 4.70352642e+00, 5.25746859e+00, 5.88763101e+00,\n",
       "       6.60529331e+00, 7.42351127e+00, 8.35740941e+00, 9.42452376e+00,\n",
       "       1.06452037e+01, 1.20430832e+01, 1.36456346e+01, 1.54848183e+01,\n",
       "       1.75978477e+01, 2.00280877e+01, 2.28261138e+01, 2.60509592e+01,\n",
       "       2.97715848e+01, 3.40686137e+01, 3.90363788e+01, 4.47853410e+01,\n",
       "       5.14449483e+01, 5.91670176e+01, 6.81297370e+01, 7.85424066e+01,\n",
       "       9.06510570e+01, 1.04745112e+02, 1.21165296e+02, 1.40313023e+02,\n",
       "       1.62661551e+02, 1.88769247e+02, 2.19295365e+02, 2.55018830e+02,\n",
       "       2.96860609e+02, 3.45910377e+02, 4.03458318e+02, 4.71033066e+02,\n",
       "       5.50447017e+02, 6.43850453e+02, 7.53796242e+02, 8.83317234e+02,\n",
       "       1.03601887e+03, 1.21619009e+03, 1.42893623e+03, 1.68033827e+03,\n",
       "       1.97764397e+03, 2.32949716e+03, 2.74621309e+03, 3.24010933e+03,\n",
       "       3.82590345e+03, 4.52119144e+03, 5.34702336e+03, 6.32859655e+03,\n",
       "       7.49609071e+03, 8.88567445e+03, 1.05407191e+04, 1.25132636e+04,\n",
       "       1.48657824e+04, 1.76733214e+04, 2.10260785e+04, 2.50325247e+04,\n",
       "       2.98231781e+04, 3.55551730e+04, 4.24177916e+04, 5.06391658e+04,\n",
       "       6.04944002e+04, 7.23154227e+04, 8.65029353e+04, 1.03540920e+05])"
      ]
     },
     "execution_count": 71,
     "metadata": {},
     "output_type": "execute_result"
    }
   ],
   "source": [
    "x = np.linspace(0,2 * np.pi , 100)\n",
    "y = np.power(x,x)\n",
    "y"
   ]
  },
  {
   "cell_type": "code",
   "execution_count": 72,
   "metadata": {},
   "outputs": [
    {
     "data": {
      "text/plain": [
       "[<matplotlib.lines.Line2D at 0x25d09234c50>]"
      ]
     },
     "execution_count": 72,
     "metadata": {},
     "output_type": "execute_result"
    },
    {
     "data": {
      "image/png": "[encoded data removed]",
      "text/plain": [
       "<Figure size 432x288 with 1 Axes>"
      ]
     },
     "metadata": {},
     "output_type": "display_data"
    }
   ],
   "source": [
    "plt.plot(x,y)"
   ]
  },
  {
   "cell_type": "code",
   "execution_count": null,
   "metadata": {},
   "outputs": [],
   "source": []
  }
 ],
 "metadata": {
  "kernelspec": {
   "display_name": "Python 3",
   "language": "python",
   "name": "python3"
  },
  "language_info": {
   "codemirror_mode": {
    "name": "ipython",
    "version": 3
   },
   "file_extension": ".py",
   "mimetype": "text/x-python",
   "name": "python",
   "nbconvert_exporter": "python",
   "pygments_lexer": "ipython3",
   "version": "3.6.5"
  }
 },
 "nbformat": 4,
 "nbformat_minor": 2
}
