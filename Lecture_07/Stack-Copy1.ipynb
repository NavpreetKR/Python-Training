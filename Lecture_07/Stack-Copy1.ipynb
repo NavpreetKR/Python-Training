{
 "cells": [
  {
   "cell_type": "code",
   "execution_count": 22,
   "metadata": {},
   "outputs": [],
   "source": [
    "import numpy as np"
   ]
  },
  {
   "cell_type": "code",
   "execution_count": 26,
   "metadata": {},
   "outputs": [],
   "source": [
    "class Stack:\n",
    "    def __init__(self):\n",
    "        self.__top = -1\n",
    "        self._data = np.zeros((10,), dtype = int )\n",
    "        \n",
    "    def push(self, value):\n",
    "        if not self.isFull():\n",
    "            self.__top += 1    \n",
    "            self._data[self.__top] = value # this is ur so-called private which can be exploited accordingly\n",
    "        else:\n",
    "            print(\"Stack is already full\")\n",
    "    def pop(self):\n",
    "        if not self.isEmpty():\n",
    "            temp = self._data[self.__top]\n",
    "            self.__top -= 1\n",
    "            return temp\n",
    "        else:\n",
    "            print(\"Stack is already Empty\")\n",
    "        \n",
    "    \n",
    "    def isFull(self):\n",
    "        return self.__top == len(self._data)-1\n",
    "    \n",
    "    def isEmpty(self):\n",
    "        return self.__top == -1\n",
    "        \n",
    "    def __repr__(self):\n",
    "        l = \"[{}]\".format(\", \".join(map(str, self._data[:self.__top+1])))  #repr is loyal to the str\n",
    "        return l                                                    #join is an interesting thing"
   ]
  },
  {
   "cell_type": "code",
   "execution_count": 24,
   "metadata": {},
   "outputs": [
    {
     "data": {
      "text/plain": [
       "'[0 1 2 3 4 5 6 7 8 9]'"
      ]
     },
     "execution_count": 24,
     "metadata": {},
     "output_type": "execute_result"
    }
   ],
   "source": [
    "li = [\"Keeanu\",\"Ellis\"]\n",
    "\"--\".join(li)\n",
    "str(np.arange(10))"
   ]
  },
  {
   "cell_type": "code",
   "execution_count": null,
   "metadata": {},
   "outputs": [],
   "source": []
  },
  {
   "cell_type": "code",
   "execution_count": null,
   "metadata": {},
   "outputs": [],
   "source": []
  },
  {
   "cell_type": "code",
   "execution_count": 27,
   "metadata": {},
   "outputs": [
    {
     "data": {
      "text/plain": [
       "12"
      ]
     },
     "execution_count": 27,
     "metadata": {},
     "output_type": "execute_result"
    }
   ],
   "source": [
    "st = Stack()\n",
    "st.push(10)\n",
    "st.push(12)\n",
    "st.pop()\n"
   ]
  },
  {
   "cell_type": "code",
   "execution_count": 18,
   "metadata": {},
   "outputs": [
    {
     "name": "stdout",
     "output_type": "stream",
     "text": [
      "[10]\n"
     ]
    }
   ],
   "source": [
    "print(st)"
   ]
  },
  {
   "cell_type": "code",
   "execution_count": 19,
   "metadata": {},
   "outputs": [
    {
     "data": {
      "text/plain": [
       "10"
      ]
     },
     "execution_count": 19,
     "metadata": {},
     "output_type": "execute_result"
    }
   ],
   "source": [
    "st.pop()\n"
   ]
  },
  {
   "cell_type": "code",
   "execution_count": 20,
   "metadata": {},
   "outputs": [
    {
     "name": "stdout",
     "output_type": "stream",
     "text": [
      "Stack is already Empty\n"
     ]
    }
   ],
   "source": [
    "st.pop()"
   ]
  },
  {
   "cell_type": "markdown",
   "metadata": {},
   "source": [
    "## Dynamic Stack"
   ]
  },
  {
   "cell_type": "code",
   "execution_count": 36,
   "metadata": {},
   "outputs": [],
   "source": [
    "class DynamicStack(Stack):\n",
    "    \n",
    "    def push(self, value):\n",
    "        if self.isFull():\n",
    "            self._data = np.concatenate([self._data,np.zeros((2*len(self._data)),dtype = int)])\n",
    "        super().push(value)\n",
    "#     # app 2 \n",
    "#     if self.isFull():\n",
    "#         bigger = np.zeros((2*len(self._data), dtype = int))\n",
    "#         for i in range(len(self._data)):\n",
    "#             bigger[i] = seld._data[i]\n",
    "#         self._data = bigger   n obviously before super()"
   ]
  },
  {
   "cell_type": "code",
   "execution_count": 37,
   "metadata": {},
   "outputs": [],
   "source": [
    "d = DynamicStack()"
   ]
  },
  {
   "cell_type": "code",
   "execution_count": 41,
   "metadata": {},
   "outputs": [],
   "source": [
    "for i in range(100):\n",
    "    d.push(i)"
   ]
  },
  {
   "cell_type": "code",
   "execution_count": 42,
   "metadata": {},
   "outputs": [
    {
     "name": "stdout",
     "output_type": "stream",
     "text": [
      "[1, 11, 111, 12, 122, 13, 133, 1, 11, 111, 12, 122, 13, 133, 14, 14, 144, 0, 1, 2, 3, 4, 5, 6, 7, 8, 9, 10, 11, 12, 13, 14, 15, 16, 17, 18, 19, 20, 21, 22, 23, 24, 25, 26, 27, 28, 29, 30, 31, 32, 33, 34, 35, 36, 37, 38, 39, 40, 41, 42, 43, 44, 45, 46, 47, 48, 49, 50, 51, 52, 53, 54, 55, 56, 57, 58, 59, 60, 61, 62, 63, 64, 65, 66, 67, 68, 69, 70, 71, 72, 73, 74, 75, 76, 77, 78, 79, 80, 81, 82, 83, 84, 85, 86, 87, 88, 89, 90, 91, 92, 93, 94, 95, 96, 97, 98, 99]\n"
     ]
    }
   ],
   "source": [
    "print(d)"
   ]
  },
  {
   "cell_type": "code",
   "execution_count": null,
   "metadata": {},
   "outputs": [],
   "source": []
  }
 ],
 "metadata": {
  "kernelspec": {
   "display_name": "Python 3",
   "language": "python",
   "name": "python3"
  },
  "language_info": {
   "codemirror_mode": {
    "name": "ipython",
    "version": 3
   },
   "file_extension": ".py",
   "mimetype": "text/x-python",
   "name": "python",
   "nbconvert_exporter": "python",
   "pygments_lexer": "ipython3",
   "version": "3.6.5"
  }
 },
 "nbformat": 4,
 "nbformat_minor": 2
}
