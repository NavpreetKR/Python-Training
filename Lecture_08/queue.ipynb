{
 "cells": [
  {
   "cell_type": "code",
   "execution_count": 1,
   "metadata": {},
   "outputs": [],
   "source": [
    "import numpy as np"
   ]
  },
  {
   "cell_type": "code",
   "execution_count": 2,
   "metadata": {},
   "outputs": [],
   "source": [
    "class Queue:\n",
    "    def __init__(self):    #magic methods\n",
    "        self.__end = -1\n",
    "        self.__size = 0\n",
    "        self.__data = np.zeros((10), dtype=int)\n",
    "        \n",
    "    def isFull(self):\n",
    "        return self.__size == len(self.__data)\n",
    "    def isEmpty(self):\n",
    "        return self.__size == 0\n",
    "    \n",
    "    def size(self):\n",
    "        return self.__size\n",
    "    \n",
    "    def add(self,value):\n",
    "        if self.isFull():\n",
    "            print(\"Queue is Full\")\n",
    "        else:\n",
    "            self.__end += 1\n",
    "            self.__data[self.__end] = value\n",
    "            self.__size += 1\n",
    "            \n",
    "    def remove(self):\n",
    "        removed = self.__data[0]\n",
    "        if self.isEmpty():\n",
    "            print(\"Queue is Empty\")\n",
    "        else:\n",
    "            for i in range(self.__end+1):      # or 1 to self.__size\n",
    "                self.__data[i] = self.__data[i+1]\n",
    "            self.__end -= 1\n",
    "            self.__size -= 1\n",
    "            return removed\n",
    "        \n",
    "    def __repr__(self):     #magic methods\n",
    "        return str(self.__data[:self.__end+1])"
   ]
  },
  {
   "cell_type": "code",
   "execution_count": 3,
   "metadata": {},
   "outputs": [],
   "source": [
    "q = Queue()"
   ]
  },
  {
   "cell_type": "code",
   "execution_count": 4,
   "metadata": {},
   "outputs": [],
   "source": [
    "q.add(2)\n",
    "q.add(25)\n",
    "q.add(32)\n",
    "q.add(72)"
   ]
  },
  {
   "cell_type": "code",
   "execution_count": 5,
   "metadata": {},
   "outputs": [
    {
     "name": "stdout",
     "output_type": "stream",
     "text": [
      "[ 2 25 32 72]\n"
     ]
    }
   ],
   "source": [
    "print(q)"
   ]
  },
  {
   "cell_type": "code",
   "execution_count": 6,
   "metadata": {},
   "outputs": [
    {
     "data": {
      "text/plain": [
       "2"
      ]
     },
     "execution_count": 6,
     "metadata": {},
     "output_type": "execute_result"
    }
   ],
   "source": [
    "q.remove()"
   ]
  },
  {
   "cell_type": "code",
   "execution_count": 7,
   "metadata": {},
   "outputs": [
    {
     "name": "stdout",
     "output_type": "stream",
     "text": [
      "[25 32 72]\n"
     ]
    }
   ],
   "source": [
    "print(q)"
   ]
  },
  {
   "cell_type": "markdown",
   "metadata": {},
   "source": [
    "## Circular Queue"
   ]
  },
  {
   "cell_type": "code",
   "execution_count": 9,
   "metadata": {},
   "outputs": [],
   "source": [
    "class CircularQueue:\n",
    "    def __init__(self):    #magic methods\n",
    "        self.__front = 0\n",
    "        self.__end = 0\n",
    "        self.__size = 0\n",
    "        self.__data = np.zeros((10), dtype=int)\n",
    "        \n",
    "    def isFull(self):\n",
    "        return self.__size == len(self.__data)\n",
    "    def isEmpty(self):\n",
    "        return self.__size == 0\n",
    "    \n",
    "    def add(self,value):\n",
    "        if self.isFull():\n",
    "            print(\"Queue is Full\")\n",
    "        else:\n",
    "            self.__data[self.__end] = value\n",
    "            self.__end += 1\n",
    "            self.__end = self.__end % len(self.__data)\n",
    "            \n",
    "            self.__size += 1 \n",
    "            \n",
    "    def remove(self):\n",
    "        removed = self.__data[self.__front]\n",
    "        if self.isEmpty():\n",
    "            print(\"Queue is Empty\")\n",
    "            return None\n",
    "        else:\n",
    "            self.__front += 1\n",
    "            self.__front =  self.__front % len(self.__data)\n",
    "            self.__size -= 1\n",
    "            return removed\n",
    "        \n",
    "    def __repr__(self):     #magic methods\n",
    "        if self.__front < self.__end:\n",
    "            return str(self.__data[self.__front : self.__end])\n",
    "        else:\n",
    "            cut1 = self.__data[self.__front:]\n",
    "            cut2 = self.__data[0:self.__end]\n",
    "            cut = np.concatenate((cut2,cut1))\n",
    "            return f'[{\",\".join(map(str,cut))}]'    # f strings "
   ]
  },
  {
   "cell_type": "code",
   "execution_count": 10,
   "metadata": {},
   "outputs": [],
   "source": [
    "q1 = CircularQueue()\n",
    "q1.add(2)\n",
    "q1.add(25)\n",
    "q1.add(38)\n",
    "q1.add(72)"
   ]
  },
  {
   "cell_type": "code",
   "execution_count": 11,
   "metadata": {},
   "outputs": [
    {
     "name": "stdout",
     "output_type": "stream",
     "text": [
      "[ 2 25 38 72]\n"
     ]
    }
   ],
   "source": [
    "print(q1)"
   ]
  },
  {
   "cell_type": "code",
   "execution_count": 12,
   "metadata": {},
   "outputs": [],
   "source": [
    "cq = CircularQueue()\n",
    "for i in range(10):\n",
    "    cq.add(i+1)"
   ]
  },
  {
   "cell_type": "code",
   "execution_count": 13,
   "metadata": {},
   "outputs": [
    {
     "name": "stdout",
     "output_type": "stream",
     "text": [
      "[1,2,3,4,5,6,7,8,9,10]\n"
     ]
    }
   ],
   "source": [
    "print(cq)"
   ]
  },
  {
   "cell_type": "code",
   "execution_count": null,
   "metadata": {},
   "outputs": [],
   "source": [
    "q1.remove()"
   ]
  },
  {
   "cell_type": "markdown",
   "metadata": {},
   "source": [
    "## Stack using Queue"
   ]
  },
  {
   "cell_type": "markdown",
   "metadata": {},
   "source": [
    "#### Add Efficient"
   ]
  },
  {
   "cell_type": "code",
   "execution_count": null,
   "metadata": {},
   "outputs": [],
   "source": [
    "class SUQ:\n",
    "    \n",
    "    def __init__(self):\n",
    "        self.q1 = Queue()\n",
    "        self.q2 = Queue()\n",
    "        \n",
    "    def add(self,value):\n",
    "        self.q1.add(value)\n",
    "        \n",
    "    def remove(self):\n",
    "        while self.q1.size() != 1:\n",
    "            self.q2.add(self.q1.remove())\n",
    "        removed = self.q1.remove()\n",
    "        self.q1, self.q2  = self.q2, self.q1\n",
    "        return removed \n",
    "    def dis(self):\n",
    "        print(self.q1)"
   ]
  },
  {
   "cell_type": "code",
   "execution_count": null,
   "metadata": {},
   "outputs": [],
   "source": [
    "suq = SUQ()"
   ]
  },
  {
   "cell_type": "code",
   "execution_count": null,
   "metadata": {},
   "outputs": [],
   "source": [
    "suq.add(12)\n",
    "suq.add(21)\n",
    "suq.add(112)\n",
    "suq.dis()\n",
    "suq.remove()\n",
    "suq.dis()"
   ]
  },
  {
   "cell_type": "markdown",
   "metadata": {},
   "source": [
    "#### Remove Efficient"
   ]
  },
  {
   "cell_type": "code",
   "execution_count": null,
   "metadata": {},
   "outputs": [],
   "source": []
  },
  {
   "cell_type": "code",
   "execution_count": null,
   "metadata": {},
   "outputs": [],
   "source": [
    "class SUQ1:\n",
    "    \n",
    "    def __init__(self):\n",
    "        self.q1 = Queue()\n",
    "        self.q2 = Queue()\n",
    "        \n",
    "    def add(self,value):\n",
    "            self.q2.add(value)\n",
    "            while not self.q1.isEmpty():\n",
    "                self.q2.add(self.q1.remove())\n",
    "            self.q1, self.q2  = self.q2, self.q1\n",
    "    \n",
    "    def remove(self):\n",
    "        self.q1.remove()\n",
    "        \n",
    "    def dis(self):\n",
    "        print(self.q1)"
   ]
  },
  {
   "cell_type": "code",
   "execution_count": null,
   "metadata": {},
   "outputs": [],
   "source": [
    "saq = SUQ1()"
   ]
  },
  {
   "cell_type": "code",
   "execution_count": null,
   "metadata": {},
   "outputs": [],
   "source": [
    "saq.add(23)\n",
    "saq.add(3)\n",
    "saq.add(73)\n",
    "saq.dis()"
   ]
  },
  {
   "cell_type": "code",
   "execution_count": null,
   "metadata": {},
   "outputs": [],
   "source": []
  },
  {
   "cell_type": "code",
   "execution_count": null,
   "metadata": {},
   "outputs": [],
   "source": []
  },
  {
   "cell_type": "code",
   "execution_count": null,
   "metadata": {},
   "outputs": [],
   "source": []
  }
 ],
 "metadata": {
  "kernelspec": {
   "display_name": "Python 3",
   "language": "python",
   "name": "python3"
  },
  "language_info": {
   "codemirror_mode": {
    "name": "ipython",
    "version": 3
   },
   "file_extension": ".py",
   "mimetype": "text/x-python",
   "name": "python",
   "nbconvert_exporter": "python",
   "pygments_lexer": "ipython3",
   "version": "3.6.5"
  }
 },
 "nbformat": 4,
 "nbformat_minor": 2
}
