{
 "cells": [
  {
   "cell_type": "code",
   "execution_count": 1,
   "metadata": {},
   "outputs": [],
   "source": [
    "import numpy as np"
   ]
  },
  {
   "cell_type": "code",
   "execution_count": 24,
   "metadata": {},
   "outputs": [],
   "source": [
    "class Queue:\n",
    "    def __init__(self):    #magic methods\n",
    "        self.__end = -1\n",
    "        self.__size = 0\n",
    "        self._data = np.zeros((10), dtype=int)\n",
    "        \n",
    "    def isFull(self):\n",
    "        return self.__size == len(self._data)\n",
    "    def isEmpty(self):\n",
    "        return self.__size == 0\n",
    "    \n",
    "    def size(self):\n",
    "        return self.__size\n",
    "    \n",
    "    def add(self,value):\n",
    "        if self.isFull():\n",
    "            print(\"Queue is Full\")\n",
    "        else:\n",
    "            self.__end += 1\n",
    "            self._data[self.__end] = value\n",
    "            self.__size += 1\n",
    "            \n",
    "    def remove(self):\n",
    "        removed = self._data[0]\n",
    "        if self.isEmpty():\n",
    "            print(\"Queue is Empty\")\n",
    "        else:\n",
    "            for i in range(self.__end+1):      # or 1 to self.__size\n",
    "                self._data[i] = self._data[i+1]\n",
    "            self.__end -= 1\n",
    "            self.__size -= 1\n",
    "            return removed\n",
    "        \n",
    "    def __repr__(self):     #magic methods\n",
    "        return str(self._data[:self.__end+1])"
   ]
  },
  {
   "cell_type": "code",
   "execution_count": 26,
   "metadata": {},
   "outputs": [],
   "source": [
    "class DynamicQ(Queue):\n",
    "\n",
    "    def add(self, value):\n",
    "        if self.isFull():\n",
    "            self._data = np.concatenate([self._data,np.zeros((2*len(self._data)),dtype = int)])\n",
    "        super().add(value)"
   ]
  },
  {
   "cell_type": "code",
   "execution_count": 27,
   "metadata": {},
   "outputs": [],
   "source": [
    "dq = DynamicQ()"
   ]
  },
  {
   "cell_type": "code",
   "execution_count": 28,
   "metadata": {},
   "outputs": [
    {
     "name": "stdout",
     "output_type": "stream",
     "text": [
      "[1000]\n"
     ]
    }
   ],
   "source": [
    "dq.add(1000)\n",
    "print(dq)"
   ]
  },
  {
   "cell_type": "code",
   "execution_count": 29,
   "metadata": {},
   "outputs": [],
   "source": [
    "for i in range(100):\n",
    "    dq.add(i)"
   ]
  },
  {
   "cell_type": "code",
   "execution_count": 30,
   "metadata": {},
   "outputs": [
    {
     "name": "stdout",
     "output_type": "stream",
     "text": [
      "[1000    0    1    2    3    4    5    6    7    8    9   10   11   12\n",
      "   13   14   15   16   17   18   19   20   21   22   23   24   25   26\n",
      "   27   28   29   30   31   32   33   34   35   36   37   38   39   40\n",
      "   41   42   43   44   45   46   47   48   49   50   51   52   53   54\n",
      "   55   56   57   58   59   60   61   62   63   64   65   66   67   68\n",
      "   69   70   71   72   73   74   75   76   77   78   79   80   81   82\n",
      "   83   84   85   86   87   88   89   90   91   92   93   94   95   96\n",
      "   97   98   99]\n"
     ]
    }
   ],
   "source": [
    "print(dq)"
   ]
  },
  {
   "cell_type": "code",
   "execution_count": 31,
   "metadata": {},
   "outputs": [
    {
     "data": {
      "text/plain": [
       "1000"
      ]
     },
     "execution_count": 31,
     "metadata": {},
     "output_type": "execute_result"
    }
   ],
   "source": [
    "dq.remove()"
   ]
  },
  {
   "cell_type": "code",
   "execution_count": null,
   "metadata": {},
   "outputs": [],
   "source": []
  }
 ],
 "metadata": {
  "kernelspec": {
   "display_name": "Python 3",
   "language": "python",
   "name": "python3"
  },
  "language_info": {
   "codemirror_mode": {
    "name": "ipython",
    "version": 3
   },
   "file_extension": ".py",
   "mimetype": "text/x-python",
   "name": "python",
   "nbconvert_exporter": "python",
   "pygments_lexer": "ipython3",
   "version": "3.6.5"
  }
 },
 "nbformat": 4,
 "nbformat_minor": 2
}
