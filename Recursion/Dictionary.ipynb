{
 "cells": [
  {
   "cell_type": "code",
   "execution_count": 5,
   "metadata": {},
   "outputs": [],
   "source": [
    "#using dict to count \n",
    "def lyr(track):\n",
    "    dict = {}\n",
    "    for word in track:\n",
    "        if word in dict:\n",
    "            dict[word] += 1\n",
    "        else:\n",
    "            dict[word] = 1\n",
    "    return dict\n"
   ]
  },
  {
   "cell_type": "code",
   "execution_count": 6,
   "metadata": {},
   "outputs": [
    {
     "data": {
      "text/plain": [
       "{'Hey': 2,\n",
       " 'I': 3,\n",
       " 'was': 2,\n",
       " 'doing': 1,\n",
       " 'just': 1,\n",
       " 'fine': 1,\n",
       " 'before': 1,\n",
       " 'met': 1,\n",
       " 'you': 2,\n",
       " 'drink': 1,\n",
       " 'too': 1,\n",
       " 'much': 1,\n",
       " 'and': 1,\n",
       " 'thats': 1,\n",
       " 'an': 1,\n",
       " 'issue': 1,\n",
       " 'but': 1,\n",
       " 'Im': 1,\n",
       " 'okay': 1,\n",
       " 'tell': 1,\n",
       " 'your': 1,\n",
       " 'friends': 1,\n",
       " 'it': 1,\n",
       " 'nice': 1,\n",
       " 'to': 1,\n",
       " 'meet': 1,\n",
       " 'them': 1,\n",
       " 'ButIhopeIneverseethemagain': 1}"
      ]
     },
     "execution_count": 6,
     "metadata": {},
     "output_type": "execute_result"
    }
   ],
   "source": [
    "l = ['Hey','I', 'was', 'doing', 'just', 'fine' ,'before', 'I', 'met', 'you',\n",
    "'I', 'drink', 'too', 'much', 'and', 'thats', 'an', 'issue', 'but', 'Im',\n",
    "'okay','Hey', 'you','tell','your','friends','it','was','nice','to','meet',\n",
    "'them', 'But''I' 'hope' 'I' 'never' 'see' 'them' 'again']\n",
    "lyr(l)"
   ]
  },
  {
   "cell_type": "markdown",
   "metadata": {},
   "source": [
    "##### Recursion using Dcitionary"
   ]
  },
  {
   "cell_type": "code",
   "execution_count": 8,
   "metadata": {},
   "outputs": [
    {
     "data": {
      "text/plain": [
       "13"
      ]
     },
     "execution_count": 8,
     "metadata": {},
     "output_type": "execute_result"
    }
   ],
   "source": [
    "def fib_eff(n,d):\n",
    "    if n in d:\n",
    "        return d[n]\n",
    "    else:\n",
    "        ans = fib_eff(n-1,d) + fib_eff(n-2,d)\n",
    "        d[n] = ans\n",
    "        return ans\n",
    "D = {1:1, 2:2}\n",
    "fib_eff(6,D)\n",
    "    "
   ]
  },
  {
   "cell_type": "code",
   "execution_count": null,
   "metadata": {},
   "outputs": [],
   "source": []
  }
 ],
 "metadata": {
  "kernelspec": {
   "display_name": "Python 3",
   "language": "python",
   "name": "python3"
  },
  "language_info": {
   "codemirror_mode": {
    "name": "ipython",
    "version": 3
   },
   "file_extension": ".py",
   "mimetype": "text/x-python",
   "name": "python",
   "nbconvert_exporter": "python",
   "pygments_lexer": "ipython3",
   "version": "3.6.5"
  }
 },
 "nbformat": 4,
 "nbformat_minor": 2
}
