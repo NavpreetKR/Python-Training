{
 "cells": [
  {
   "cell_type": "code",
   "execution_count": 142,
   "metadata": {},
   "outputs": [],
   "source": [
    "class Engine():\n",
    "    \n",
    "    def __init__(self):\n",
    "        self.cycle = 5\n",
    "        self.active = False\n",
    "    def start(self):\n",
    "        if self.active:\n",
    "            print(\"Engine already running\")\n",
    "            \n",
    "        if self.cycle > 0:\n",
    "            print(\"start like generic engine\")\n",
    "            self.active = True\n",
    "            self. cycle -= 1\n",
    "        \n",
    "        else:\n",
    "            print(\"engine expired!!!\")\n",
    "    def stop(self):\n",
    "        print(\"stop like generic engine\")\n",
    "    "
   ]
  },
  {
   "cell_type": "code",
   "execution_count": 150,
   "metadata": {},
   "outputs": [],
   "source": [
    "class NitroEngine(Engine):\n",
    "    \n",
    "\n",
    "    def start(self):\n",
    "            print(\"start like Nitro engine\")\n",
    "            self.active = True\n",
    "    \n",
    "    def stop(self):\n",
    "        print(\"stop like Nitro engine\")"
   ]
  },
  {
   "cell_type": "code",
   "execution_count": 151,
   "metadata": {},
   "outputs": [],
   "source": [
    "class Steering():\n",
    "    \n",
    "    def left(self):\n",
    "        print(\"turn left like generic steering\")\n",
    "        \n",
    "    def right(self):\n",
    "        print(\"turn right like generic steering\")"
   ]
  },
  {
   "cell_type": "code",
   "execution_count": 152,
   "metadata": {},
   "outputs": [],
   "source": [
    "class Music():\n",
    "    \n",
    "    def play(self):\n",
    "        print(\"Drop the bass\")\n",
    "        \n",
    "    def pause(self):\n",
    "        print(\"Music stopped\")"
   ]
  },
  {
   "cell_type": "code",
   "execution_count": 153,
   "metadata": {},
   "outputs": [],
   "source": [
    "class Car():\n",
    "    \n",
    "    def __init__(self):\n",
    "        self.__engine = Engine()\n",
    "        self.__steering = Steering()\n",
    "        self.__music = Music()\n",
    "        \n",
    "    def startCar(self):\n",
    "        self.__engine.start()\n",
    "        if self.__engine.active:\n",
    "            self.__music.play()\n",
    "        \n",
    "    def stopCar(self):\n",
    "        self.__music.pause()\n",
    "        self.__engine.stop()\n",
    "        \n",
    "    def changeEngine(self, engine = None):\n",
    "        if self.__engine.active:\n",
    "            self.__engine.stop()\n",
    "        if engine != None:\n",
    "            self.__engine = engine\n",
    "        else:\n",
    "            self.__engine = Engine()"
   ]
  },
  {
   "cell_type": "code",
   "execution_count": 154,
   "metadata": {},
   "outputs": [
    {
     "name": "stdout",
     "output_type": "stream",
     "text": [
      "start like generic engine\n",
      "Drop the bass\n"
     ]
    }
   ],
   "source": [
    "veyron = Car()\n",
    "veyron.startCar()"
   ]
  },
  {
   "cell_type": "code",
   "execution_count": 155,
   "metadata": {},
   "outputs": [
    {
     "name": "stdout",
     "output_type": "stream",
     "text": [
      "Music stopped\n",
      "stop like generic engine\n",
      "Engine already running\n",
      "start like generic engine\n",
      "Drop the bass\n",
      "Engine already running\n",
      "start like generic engine\n",
      "Drop the bass\n",
      "Engine already running\n",
      "start like generic engine\n",
      "Drop the bass\n",
      "Engine already running\n",
      "start like generic engine\n",
      "Drop the bass\n",
      "Engine already running\n",
      "engine expired!!!\n",
      "Drop the bass\n"
     ]
    }
   ],
   "source": [
    "veyron.stopCar()\n",
    "veyron.startCar()\n",
    "veyron.startCar()\n",
    "veyron.startCar()\n",
    "veyron.startCar()\n",
    "veyron.startCar()"
   ]
  },
  {
   "cell_type": "code",
   "execution_count": 156,
   "metadata": {},
   "outputs": [
    {
     "name": "stdout",
     "output_type": "stream",
     "text": [
      "stop like generic engine\n"
     ]
    }
   ],
   "source": [
    "nitro = NitroEngine()\n",
    "veyron.changeEngine(nitro) # or veyron.changeEngine(NitroEngine())"
   ]
  },
  {
   "cell_type": "code",
   "execution_count": 157,
   "metadata": {},
   "outputs": [
    {
     "name": "stdout",
     "output_type": "stream",
     "text": [
      "start like Nitro engine\n",
      "Drop the bass\n"
     ]
    }
   ],
   "source": [
    "# now u wanna get fast n furious so get the NO2 engine if u dont wanna be a looser \n",
    "# lets change the rigid car to a sportscar beauty\n",
    "veyron.startCar()"
   ]
  },
  {
   "cell_type": "code",
   "execution_count": null,
   "metadata": {},
   "outputs": [],
   "source": []
  },
  {
   "cell_type": "code",
   "execution_count": null,
   "metadata": {},
   "outputs": [],
   "source": []
  },
  {
   "cell_type": "code",
   "execution_count": null,
   "metadata": {},
   "outputs": [],
   "source": []
  }
 ],
 "metadata": {
  "kernelspec": {
   "display_name": "Python 3",
   "language": "python",
   "name": "python3"
  },
  "language_info": {
   "codemirror_mode": {
    "name": "ipython",
    "version": 3
   },
   "file_extension": ".py",
   "mimetype": "text/x-python",
   "name": "python",
   "nbconvert_exporter": "python",
   "pygments_lexer": "ipython3",
   "version": "3.6.5"
  }
 },
 "nbformat": 4,
 "nbformat_minor": 2
}
