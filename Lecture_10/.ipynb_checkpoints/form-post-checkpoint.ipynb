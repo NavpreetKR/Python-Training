{
 "cells": [
  {
   "cell_type": "code",
   "execution_count": 1,
   "metadata": {},
   "outputs": [],
   "source": [
    "from flask import Flask, request, templating"
   ]
  },
  {
   "cell_type": "code",
   "execution_count": 2,
   "metadata": {},
   "outputs": [],
   "source": [
    "app = Flask(\"Form\")"
   ]
  },
  {
   "cell_type": "code",
   "execution_count": null,
   "metadata": {},
   "outputs": [
    {
     "name": "stderr",
     "output_type": "stream",
     "text": [
      " * Running on http://127.0.0.1:8080/ (Press CTRL+C to quit)\n",
      "127.0.0.1 - - [06/Feb/2020 12:45:11] \"GET /form/ HTTP/1.1\" 200 -\n",
      "127.0.0.1 - - [06/Feb/2020 12:45:23] \"GET /submit?firstname=Mickey&lastname=Mouse HTTP/1.1\" 301 -\n",
      "127.0.0.1 - - [06/Feb/2020 12:45:23] \"GET /submit/?firstname=Mickey&lastname=Mouse HTTP/1.1\" 200 -\n",
      "127.0.0.1 - - [06/Feb/2020 12:47:51] \"GET /submit?firstname=marshal&lastname=mathers HTTP/1.1\" 301 -\n",
      "127.0.0.1 - - [06/Feb/2020 12:47:51] \"GET /submit/?firstname=marshal&lastname=mathers HTTP/1.1\" 200 -\n"
     ]
    }
   ],
   "source": [
    "@app.route(\"/submit/\", methods=[\"GET,POST\"]\n",
    "def submit():\n",
    "    fname = request.args.get(\"firstname\")\n",
    "    lname = request.args.get(\"lastname\")\n",
    "    \n",
    "    return \"My fname is {} and lname is {}\".format(fname, lname)\n",
    "\n",
    "@app.route(\"/form/\")\n",
    "def form():\n",
    "    return templating.render_template(\"sample_template.html\")\n",
    "app.run(port=8080)"
   ]
  },
  {
   "cell_type": "code",
   "execution_count": null,
   "metadata": {},
   "outputs": [],
   "source": []
  }
 ],
 "metadata": {
  "kernelspec": {
   "display_name": "Python 3",
   "language": "python",
   "name": "python3"
  },
  "language_info": {
   "codemirror_mode": {
    "name": "ipython",
    "version": 3
   },
   "file_extension": ".py",
   "mimetype": "text/x-python",
   "name": "python",
   "nbconvert_exporter": "python",
   "pygments_lexer": "ipython3",
   "version": "3.6.5"
  }
 },
 "nbformat": 4,
 "nbformat_minor": 2
}
