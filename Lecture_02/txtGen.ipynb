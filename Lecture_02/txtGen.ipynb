{
 "cells": [
  {
   "cell_type": "markdown",
   "metadata": {},
   "source": [
    "# This is a heading"
   ]
  },
  {
   "cell_type": "markdown",
   "metadata": {},
   "source": [
    "![An alt text](https://media-exp1.licdn.com/dms/image/C4D0BAQHiNSL4Or29cg/company-logo_200_200/0?e=2159024400&v=beta&t=0e00tehBFFtuqgUCfAijpOkoBl89jxOTIe_k9HHpi_4)"
   ]
  },
  {
   "cell_type": "markdown",
   "metadata": {},
   "source": [
    "- a"
   ]
  },
  {
   "cell_type": "code",
   "execution_count": null,
   "metadata": {},
   "outputs": [],
   "source": [
    "# Markdown Cheatsheet"
   ]
  },
  {
   "cell_type": "markdown",
   "metadata": {},
   "source": [
    "'''\n",
    "- hi\n",
    "'''"
   ]
  },
  {
   "cell_type": "code",
   "execution_count": null,
   "metadata": {},
   "outputs": [],
   "source": []
  },
  {
   "cell_type": "markdown",
   "metadata": {},
   "source": [
    "# home assignment"
   ]
  },
  {
   "cell_type": "code",
   "execution_count": 4,
   "metadata": {},
   "outputs": [
    {
     "name": "stdout",
     "output_type": "stream",
     "text": [
      "<Response [200]>\n"
     ]
    }
   ],
   "source": [
    "import requests\n",
    "url = r\"https://raw.githubusercontent.com/coding-blocks-archives/ML-Noida-2019-June-Two/master/datasets/speeches/speech.txt\"\n",
    "result = requests.get(url)\n",
    "print(result)"
   ]
  },
  {
   "cell_type": "code",
   "execution_count": 6,
   "metadata": {},
   "outputs": [],
   "source": [
    "\n",
    "f = open(\"speech.txt\",\"wt\", encoding='utf-8')\n",
    "f.write(result.text)\n",
    "f.close()"
   ]
  },
  {
   "cell_type": "code",
   "execution_count": 7,
   "metadata": {},
   "outputs": [
    {
     "name": "stdout",
     "output_type": "stream",
     "text": [
      "26 8 2016, India\n",
      "Niti Aayog\n",
      "There was a time when development was believed to depend on the quantity of capital and labour. Today we know that it depends as much on the quality of institutions and ideas. Early last year, a new institution was created, namely, the National Institution for Transforming India or NITI. NITI was created as an evidence based think tank to guide India’s transformation.\n",
      "One of NITI’s functions is:\n",
      "- to mainstream external ideas into Government policies, through collabor\n"
     ]
    }
   ],
   "source": [
    "f1 = open(\"speech.txt\",\"rt\", encoding='utf-8')\n",
    "z = f1.read(500)\n",
    "print(z)\n",
    "f1.close()"
   ]
  },
  {
   "cell_type": "markdown",
   "metadata": {},
   "source": [
    "# random text generation(chunks)"
   ]
  },
  {
   "cell_type": "code",
   "execution_count": 9,
   "metadata": {},
   "outputs": [],
   "source": [
    "import requests\n",
    "import random\n",
    "url = r\"https://cb.lk/speech\"\n",
    "response = requests.get(url)"
   ]
  },
  {
   "cell_type": "code",
   "execution_count": 10,
   "metadata": {},
   "outputs": [],
   "source": [
    "text =\"\"\"Big Syke, Newt, Hank, Beugard, Big Sir\n",
    "Y'all know how this shit go\n",
    "All eyes on me\n",
    "Motherfuckin' OG\n",
    "Roll up in the club and shit, is that right?\n",
    "All eyes on me\n",
    "All eyes on me\n",
    "But you know what?\n",
    "I bet you got it twisted, you don't know who to trust\n",
    "So many player-hatin' niggas tryna sound like us\n",
    "Say they ready for the funk, but I don't think they knowin'\n",
    "Straight to the depths of Hell is where those cowards goin'\n",
    "Well, are you still down? Nigga, holla when you see me\n",
    "And let these devils be sorry for the day they finally freed me\n",
    "I got a caravan of niggas every time we ride\n",
    "Hittin' motherfuckers up when we pass by\n",
    "Until I die, live the life of a boss player, 'cause even when I'm high\n",
    "Fuck with me and get crossed later, the futures in my eyes\n",
    "'Cause all I want is cash and thangs\n",
    "A five-double-oh Benz, flauntin' flashy rings\n",
    "Uhh, bitches pursue me like a dream\n",
    "Been known to disappear before your eyes just like a dope fiend\n",
    "It seems, my main thing was to be major paid\n",
    "The game sharper than a motherfuckin' razor blade\n",
    "Say money bring bitches, bitches bring lies\n",
    "One nigga's gettin' jealous and motherfuckers die\n",
    "Depend on me like the first and fifteenth\n",
    "They might hold me for a second, but these punks won't get me\n",
    "We got four niggas in low riders and ski masks\n",
    "Screamin', \"Thug Life\" every time they pass, all eyes on me\n",
    "Live the life of a thug nigga until the day I die\n",
    "Live the life of a boss player 'cause even gettin' high\n",
    "All eyes on me\n",
    "All eyes on me\n",
    "Live the life of a thug nigga until the day I die\n",
    "Live the life of a boss player 'cause even gettin' high\n",
    "Hey, to my nigga 'Pac\n",
    "So much trouble in the world, nigga\n",
    "Can't nobody feel your pain\n",
    "The world's changin' every day, time's movin' fast\n",
    "My girl said I need a raise, how long will she last?\n",
    "I'm caught between my woman and my pistol and my chips\n",
    "Triple beam, got some smokers on, whistle as I dip\n",
    "I'm lost in the land with no plan, livin' life flawless\n",
    "Crime boss, contraband, let me toss this\n",
    "Needy hookers got a lot of nerve\n",
    "Let my bucket swerve, I'm takin' off from the curb\n",
    "The nervousness neglect make me pack a TEC\n",
    "Devoted to servin' this Moët and pay checks\n",
    "Like Akai satellite, nigga, I'm forever ballin'\n",
    "It ain't right: parasites, triggers, and fleas crawlin'\n",
    "Sucker, duck and get busted, no emotion\n",
    "My devotion is handlin' my business, nigga, keep on coastin'\n",
    "Where you goin', I been there, came back as lonely, homie\n",
    "Steady flowin' against the grain, niggas still don't know me\n",
    "It's about the money in this rap shit, this crap shit\n",
    "It ain't funny, niggas don't even know how to act, shit\n",
    "What can I do? What can I say? Is there another way?\n",
    "Blunts and gin all day, 24 parlay\n",
    "My little homie G, can't you see I'm buster-free?\n",
    "Niggas can't stand me, all eyes on me\n",
    "Live the life of a thug nigga until the day I die\n",
    "Live the life of a boss player 'cause even gettin' high\n",
    "All eyes on me\n",
    "All eyes on me\n",
    "Live the life of a thug nigga until the day I die\n",
    "Live the life of a boss player 'cause even gettin' high\n",
    "All eyes on me\n",
    "The feds is watchin', niggas plottin' to get me\n",
    "Will I survive? Will I die? Come on, let's picture the possibility\n",
    "Givin' me charges, lawyers makin' a grip\n",
    "I told the judge I was raised wrong and that's why I blaze shit\n",
    "Was hyper as a kid, cold as a teenager\n",
    "On my mobile, callin' big shots on the scene major\n",
    "Packin' hundreds in my drawers, fuck the law\n",
    "Bitches, I fuck with a passion, I'm livin' rough and raw\n",
    "Catchin' cases at a fast rate, ballin' in the fast lane\n",
    "Hustle 'til the mornin', never stopped until the cash came\n",
    "Live my life as a thug nigga until the day I die\n",
    "Live my life as a boss player, 'cause even gettin' high\n",
    "These niggas got me tossin' shit\n",
    "I put the top down, now it's time to floss my shit\n",
    "Keep your head up, nigga, make these motherfuckers suffer\n",
    "Up in the Benz, burnin' rubber\n",
    "The money is mandatory, the hoes is for the stress\n",
    "This criminal lifestyle, equipped with a bulletproof vest\n",
    "Make sure your eyes is on the meal ticket, get your money\n",
    "Motherfucker, let's get rich and we'll kick it; all eyes on me\n",
    "Live the life of a thug nigga until the day I die\n",
    "Live the life of a boss player 'cause even gettin' high\n",
    "All eyes on me\n",
    "All eyes on me\n",
    "Live the life of a thug nigga until the day I die\n",
    "Live the life of a boss player 'cause even gettin' high\n",
    "All eyes on me\n",
    "All eyes on me\n",
    "Pay attention, my niggas! See how that shit go?\n",
    "Nigga walk up in this motherfucker and it be like, \"Bing!\"\n",
    "Cops (Live my life as a thug nigga until the day I die)\n",
    "Bitches (Live my life as a boss playa, 'cause even gettin' high)\n",
    "Every-motherfuckin'-body, I got bustas, hoes, and police watchin' a nigga, you know?\n",
    "(Live my life as a thug nigga until the day I die)\n",
    "(Livin' life as a boss playa, 'cause even gettin' high) all eyes on me\n",
    "He he he, it's like what they think\n",
    "I'm walkin' around with some ki's in my pocket or somethin'\n",
    "They think I'm goin' back to jail, they really on that dope\n",
    "(Live my life as a thug nigga until the day I die)\n",
    "I know y'all watchin' (Live my life as a boss playa)\n",
    "I know y'all got me in the scopes (Live my life as a thug nigga until the day I die)\n",
    "I know y'all know this is Thug Life, baby! (Live my life as a boss playa, 'cause even gettin' high)\n",
    "Y'all got me under surveillance, huh?\n",
    "All eyes on me, but I'm knowin'\"\"\" #how about some dope lyrics?\n"
   ]
  },
  {
   "cell_type": "code",
   "execution_count": 16,
   "metadata": {},
   "outputs": [],
   "source": [
    "counts = {}\n",
    "k = 7\n",
    "for i in range(k, len(text)):\n",
    "    cut = text[i-k : i]\n",
    "    nxt = text[i]\n",
    "    \n",
    "    if cut not in counts:\n",
    "        counts[cut] = {}\n",
    "    if nxt not in counts[cut]:\n",
    "        counts[cut][nxt] = 0\n",
    "    \n",
    "    counts[cut][nxt] += 1\n",
    "    "
   ]
  },
  {
   "cell_type": "code",
   "execution_count": 17,
   "metadata": {},
   "outputs": [],
   "source": [
    "greetings = text[:20] # provinding the seed such that its not the last part."
   ]
  },
  {
   "cell_type": "code",
   "execution_count": 18,
   "metadata": {},
   "outputs": [],
   "source": [
    "for i in range(500):\n",
    "    cut = greetings[-k:]\n",
    "    top3 = sorted(counts[cut].items(), key=lambda item: item[1], reverse = True)[:3] \n",
    "    chosen = random.choice(top3)[0]\n",
    "    greetings = greetings + chosen"
   ]
  },
  {
   "cell_type": "code",
   "execution_count": 15,
   "metadata": {},
   "outputs": [
    {
     "name": "stdout",
     "output_type": "stream",
     "text": [
      "Big Syke, Newt, Hank, Beugard, Big Sir\n",
      "Y'all known to disappear before your eyes\n",
      "'Cause even knowin'\n",
      "Sucker and my chips\n",
      "Triple beam, got a lot of nervousness neglect make me like, \"Bing!\"\n",
      "Cops (Live the land with no plan, live these devils be sorry for the life as I dip\n",
      "I'm walkin' a nigga, holla when we passion, my mobile, callin'\n",
      "It ain't right: parasites, triggers, and gin all eyes\n",
      "'Cause all eyes\n",
      "'Cause all day, 24 parlay\n",
      "My little homie G, can't nobody feel your eyes just like, \"Bing!\"\n",
      "Cops (Live my life flaw\n"
     ]
    }
   ],
   "source": [
    "print(greetings)"
   ]
  },
  {
   "cell_type": "code",
   "execution_count": null,
   "metadata": {},
   "outputs": [],
   "source": []
  }
 ],
 "metadata": {
  "kernelspec": {
   "display_name": "Python 3",
   "language": "python",
   "name": "python3"
  },
  "language_info": {
   "codemirror_mode": {
    "name": "ipython",
    "version": 3
   },
   "file_extension": ".py",
   "mimetype": "text/x-python",
   "name": "python",
   "nbconvert_exporter": "python",
   "pygments_lexer": "ipython3",
   "version": "3.6.5"
  }
 },
 "nbformat": 4,
 "nbformat_minor": 2
}
