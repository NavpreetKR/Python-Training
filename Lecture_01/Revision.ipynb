{
 "cells": [
  {
   "cell_type": "code",
   "execution_count": 1,
   "metadata": {},
   "outputs": [
    {
     "name": "stdout",
     "output_type": "stream",
     "text": [
      "h!!!\n",
      "h!!!\n",
      "h!!!\n",
      "h!!!\n",
      "h!!!\n",
      "h!!!\n",
      "h!!!\n"
     ]
    }
   ],
   "source": [
    "word = input(\"I will cheer for you!Enter a word : \")\n",
    "times=int(input(\"Enthusiasm Level : \"))\n",
    "an_letters = \"aefhilmnorsxAEFHILMNORSX\"\n",
    "for char in word:\n",
    "    if char in an_letters:\n",
    "        input(\"Give me an \"+char+\":\")\n",
    "    else:\n",
    "        input(\"Give me a \"+char+\":\")\n",
    "for i in range(times):\n",
    "    print(word+\"!!!\")"
   ]
  },
  {
   "cell_type": "markdown",
   "metadata": {},
   "source": [
    "#### Guess and Check Algo"
   ]
  },
  {
   "cell_type": "code",
   "execution_count": 2,
   "metadata": {},
   "outputs": [
    {
     "name": "stdout",
     "output_type": "stream",
     "text": [
      "Cube root is :  2\n"
     ]
    }
   ],
   "source": [
    "#Guessing the cube root of a number\n",
    "cube = int(input(\"Enter a number : \"))\n",
    "for guess in range(1,abs(cube)+1):\n",
    "    if guess**3 >= abs(cube):\n",
    "        break\n",
    "if guess**3 != abs(cube):\n",
    "    print(str(cube)+\" is not a perfect cube\")\n",
    "else:\n",
    "    if cube < 0:\n",
    "        guess = -guess\n",
    "    print(\"Cube root is : \",guess)\n",
    "    "
   ]
  },
  {
   "cell_type": "markdown",
   "metadata": {},
   "source": [
    "#### Approximation Algo "
   ]
  },
  {
   "cell_type": "code",
   "execution_count": 3,
   "metadata": {},
   "outputs": [
    {
     "name": "stdout",
     "output_type": "stream",
     "text": [
      "Number of guesses :  208\n",
      "2.0799999999999996 is close to the cube root of 9\n"
     ]
    }
   ],
   "source": [
    "cube = int(input(\"Enter a number : \"))\n",
    "guess = 0.0\n",
    "epsilon = 0.1\n",
    "increment = 0.01\n",
    "num_guesses = 0\n",
    "while abs(guess**3 - cube) >= epsilon and guess <= cube:\n",
    "    guess += increment\n",
    "    num_guesses += 1\n",
    "print(\"Number of guesses : \",num_guesses)\n",
    "if abs(guess**3 - cube) >= epsilon:\n",
    "    print(\"Failed to find the cube root!\")\n",
    "else:\n",
    "    print(guess,\"is close to the cube root of\",cube)"
   ]
  },
  {
   "cell_type": "markdown",
   "metadata": {},
   "source": [
    "#### Bisection/ Binary Search Algorithm"
   ]
  },
  {
   "cell_type": "code",
   "execution_count": 3,
   "metadata": {},
   "outputs": [
    {
     "name": "stdout",
     "output_type": "stream",
     "text": [
      "Number of guesses :  11\n",
      "2.080810546875  is close to the cube root of  9\n"
     ]
    }
   ],
   "source": [
    "cube = int(input(\"Enter a number : \"))\n",
    "epsilon = 0.01\n",
    "low = 0\n",
    "high = cube\n",
    "guess = (low + high)/2.0\n",
    "num_guesses = 0\n",
    "while abs(guess**3 - cube) >= epsilon:\n",
    "    if guess**3 <cube:\n",
    "        low = guess\n",
    "    else:\n",
    "        high = guess\n",
    "    guess = (low + high)/2.0\n",
    "    num_guesses += 1\n",
    "print(\"Number of guesses : \",num_guesses)\n",
    "print(guess,\" is close to the cube root of \",cube)\n"
   ]
  },
  {
   "cell_type": "code",
   "execution_count": 4,
   "metadata": {},
   "outputs": [
    {
     "name": "stdout",
     "output_type": "stream",
     "text": [
      "common letter\n",
      "common letter\n",
      "common letter\n",
      "common letter\n",
      "common letter\n",
      "common letter\n",
      "common letter\n"
     ]
    }
   ],
   "source": [
    "s1 = \"mit u rock\"\n",
    "s2 = \"i rule mit\"\n",
    "if len(s2)==len(s2):\n",
    "    for char1 in s1:\n",
    "        for char2 in s2:\n",
    "            if char1 == char2:\n",
    "                print(\"common letter\")\n",
    "                break"
   ]
  },
  {
   "cell_type": "code",
   "execution_count": null,
   "metadata": {},
   "outputs": [],
   "source": []
  }
 ],
 "metadata": {
  "kernelspec": {
   "display_name": "Python 3",
   "language": "python",
   "name": "python3"
  },
  "language_info": {
   "codemirror_mode": {
    "name": "ipython",
    "version": 3
   },
   "file_extension": ".py",
   "mimetype": "text/x-python",
   "name": "python",
   "nbconvert_exporter": "python",
   "pygments_lexer": "ipython3",
   "version": "3.6.5"
  }
 },
 "nbformat": 4,
 "nbformat_minor": 2
}
