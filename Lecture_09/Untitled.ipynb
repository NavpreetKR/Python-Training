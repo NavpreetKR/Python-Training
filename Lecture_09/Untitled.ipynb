{
 "cells": [
  {
   "cell_type": "code",
   "execution_count": 1,
   "metadata": {},
   "outputs": [],
   "source": [
    "from bs4 import BeautifulSoup"
   ]
  },
  {
   "cell_type": "code",
   "execution_count": 10,
   "metadata": {},
   "outputs": [],
   "source": [
    "import requests\n",
    "url = r\"https://www.goodreads.com/quotes?page=2\"\n",
    "result = requests.get(url)\n",
    "text = result.text\n",
    "cut = BeautifulSoup(text,\"lxml\")\n",
    "list1 = cut.find_all(\"div\", attrs = {\"class\":\"quoteText\"})"
   ]
  },
  {
   "cell_type": "code",
   "execution_count": 15,
   "metadata": {},
   "outputs": [
    {
     "name": "stdout",
     "output_type": "stream",
     "text": [
      "\n",
      "      “Only once in your life, I truly believe, you find someone who can completely turn your world around. You tell them things that you’ve never shared with another soul and they absorb everything you say and actually want to hear more. You share hopes for the future, dreams that will never come true, goals that were never achieved and the many disappointments life has thrown at you. When something wonderful happens, you can’t wait to tell them about it, knowing they will share in your excitement. They are not embarrassed to cry with you when you are hurting or laugh with you when you make a fool of yourself. Never do they hurt your feelings or make you feel like you are not good enough, but rather they build you up and show you the things about yourself that make you special and even beautiful. There is never any pressure, jealousy or competition but only a quiet calmness when they are around. You can be yourself and not worry about what they will think of you because they love you for who you are. The things that seem insignificant to most people such as a note, song or walk become invaluable treasures kept safe in your heart to cherish forever. Memories of your childhood come back and are so clear and vivid it’s like being young again. Colours seem brighter and more brilliant. Laughter seems part of daily life where before it was infrequent or didn’t exist at all. A phone call or two during the day helps to get you through a long day’s work and always brings a smile to your face. In their presence, there’s no need for continuous conversation, but you find you’re quite content in just having them nearby. Things that never interested you before become fascinating because you know they are important to this person who is so special to you. You think of this person on every occasion and in everything you do. Simple things bring them to mind like a pale blue sky, gentle wind or even a storm cloud on the horizon. You open your heart knowing that there’s a chance it may be broken one day and in opening your heart, you experience a love and joy that you never dreamed possible. You find that being vulnerable is the only way to allow your heart to feel true pleasure that’s so real it scares you. You find strength in knowing you have a true friend and possibly a soul mate who will remain loyal to the end. Life seems completely different, exciting and worthwhile. Your only hope and security is in knowing that they are a part of your life.”\n",
      "    ―\n",
      "  \n",
      "    Bob Marley\n",
      "  \n",
      "\n"
     ]
    }
   ],
   "source": [
    "l=list1[1]\n",
    "print(l.text)"
   ]
  },
  {
   "cell_type": "code",
   "execution_count": 22,
   "metadata": {},
   "outputs": [],
   "source": [
    "authors = cut.find_all(\"span\", attrs = {\"class\":\"authorOrTitle\"})"
   ]
  },
  {
   "cell_type": "code",
   "execution_count": 23,
   "metadata": {},
   "outputs": [
    {
     "data": {
      "text/plain": [
       "[<span class=\"authorOrTitle\">\n",
       "     Andre Gide,\n",
       "   </span>, <span class=\"authorOrTitle\">\n",
       "     Bob Marley\n",
       "   </span>, <span class=\"authorOrTitle\">\n",
       "     J.R.R. Tolkien,\n",
       "   </span>, <span class=\"authorOrTitle\">\n",
       "     J.K. Rowling,\n",
       "   </span>, <span class=\"authorOrTitle\">\n",
       "     Marilyn Monroe\n",
       "   </span>, <span class=\"authorOrTitle\">\n",
       "     Jane Austen,\n",
       "   </span>, <span class=\"authorOrTitle\">\n",
       "     J.K. Rowling,\n",
       "   </span>, <span class=\"authorOrTitle\">\n",
       "     Albert Einstein\n",
       "   </span>, <span class=\"authorOrTitle\">\n",
       "     John Green,\n",
       "   </span>, <span class=\"authorOrTitle\">\n",
       "     Mark Twain\n",
       "   </span>, <span class=\"authorOrTitle\">\n",
       "     Maurice Switzer,\n",
       "   </span>, <span class=\"authorOrTitle\">\n",
       "     William Shakespeare,\n",
       "   </span>, <span class=\"authorOrTitle\">\n",
       "     Oscar Wilde,\n",
       "   </span>, <span class=\"authorOrTitle\">\n",
       "     Allen Saunders\n",
       "   </span>, <span class=\"authorOrTitle\">\n",
       "     Mark Twain\n",
       "   </span>, <span class=\"authorOrTitle\">\n",
       "     Neil Gaiman,\n",
       "   </span>, <span class=\"authorOrTitle\">\n",
       "     Bill Keane\n",
       "   </span>, <span class=\"authorOrTitle\">\n",
       "     Thomas A. Edison\n",
       "   </span>, <span class=\"authorOrTitle\">\n",
       "     Eleanor Roosevelt\n",
       "   </span>, <span class=\"authorOrTitle\">\n",
       "     Mark Twain\n",
       "   </span>, <span class=\"authorOrTitle\">\n",
       "     Elie Wiesel\n",
       "   </span>, <span class=\"authorOrTitle\">\n",
       "     Friedrich Nietzsche\n",
       "   </span>, <span class=\"authorOrTitle\">\n",
       "     Gordon A. Eadie\n",
       "   </span>, <span class=\"authorOrTitle\">\n",
       "     douglas adams,\n",
       "   </span>, <span class=\"authorOrTitle\">\n",
       "     J.K. Rowling,\n",
       "   </span>, <span class=\"authorOrTitle\">\n",
       "     Pablo Neruda,\n",
       "   </span>, <span class=\"authorOrTitle\">\n",
       "     Groucho Marx,\n",
       "   </span>, <span class=\"authorOrTitle\">\n",
       "     Albert Einstein\n",
       "   </span>, <span class=\"authorOrTitle\">\n",
       "     Dr. Seuss\n",
       "   </span>, <span class=\"authorOrTitle\">\n",
       "     William Shakespeare,\n",
       "   </span>]"
      ]
     },
     "execution_count": 23,
     "metadata": {},
     "output_type": "execute_result"
    }
   ],
   "source": [
    "authors"
   ]
  },
  {
   "cell_type": "code",
   "execution_count": 28,
   "metadata": {},
   "outputs": [
    {
     "data": {
      "text/plain": [
       "\"\\n      “Imperfection is beauty, madness is genius and it's better to be absolutely ridiculous than absolutely boring.”\\n    ―\\n  \\n    Marilyn Monroe\\n  \\n\""
      ]
     },
     "execution_count": 28,
     "metadata": {},
     "output_type": "execute_result"
    }
   ],
   "source": [
    "frey = list1[4]\n",
    "frey.text"
   ]
  },
  {
   "cell_type": "code",
   "execution_count": 35,
   "metadata": {},
   "outputs": [],
   "source": [
    "fr = frey.find_next(\"div\", attrs = {\"class\" : \"left\"})\n",
    "tags_links = fr.find_all(\"a\")\n",
    "tags = [tag_link.text for tag_link in tags_links]"
   ]
  },
  {
   "cell_type": "code",
   "execution_count": 36,
   "metadata": {},
   "outputs": [
    {
     "data": {
      "text/plain": [
       "['attributed-no-source', 'be-yourself', 'inspirational']"
      ]
     },
     "execution_count": 36,
     "metadata": {},
     "output_type": "execute_result"
    }
   ],
   "source": [
    "tags"
   ]
  },
  {
   "cell_type": "code",
   "execution_count": null,
   "metadata": {},
   "outputs": [],
   "source": []
  }
 ],
 "metadata": {
  "kernelspec": {
   "display_name": "Python 3",
   "language": "python",
   "name": "python3"
  },
  "language_info": {
   "codemirror_mode": {
    "name": "ipython",
    "version": 3
   },
   "file_extension": ".py",
   "mimetype": "text/x-python",
   "name": "python",
   "nbconvert_exporter": "python",
   "pygments_lexer": "ipython3",
   "version": "3.6.5"
  }
 },
 "nbformat": 4,
 "nbformat_minor": 2
}
