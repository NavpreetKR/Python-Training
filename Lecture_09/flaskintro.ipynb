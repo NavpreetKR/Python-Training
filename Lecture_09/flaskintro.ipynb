{
 "cells": [
  {
   "cell_type": "code",
   "execution_count": 1,
   "metadata": {},
   "outputs": [],
   "source": [
    "from flask import Flask"
   ]
  },
  {
   "cell_type": "code",
   "execution_count": 2,
   "metadata": {},
   "outputs": [],
   "source": [
    "i = 0"
   ]
  },
  {
   "cell_type": "code",
   "execution_count": 3,
   "metadata": {},
   "outputs": [],
   "source": [
    "app = Flask(\"My-App\")"
   ]
  },
  {
   "cell_type": "code",
   "execution_count": 4,
   "metadata": {},
   "outputs": [],
   "source": [
    "@app.route(\"/home\")     #annotations\n",
    "def sayhi():\n",
    "    global i\n",
    "    i += 1\n",
    "    return \"Hey, I am Navpreet?This site have been visited {} times\".format(str(i))"
   ]
  },
  {
   "cell_type": "code",
   "execution_count": null,
   "metadata": {},
   "outputs": [
    {
     "name": "stderr",
     "output_type": "stream",
     "text": [
      " * Running on http://127.0.0.1:5000/ (Press CTRL+C to quit)\n",
      "127.0.0.1 - - [06/Feb/2020 11:08:27] \"GET / HTTP/1.1\" 404 -\n",
      "127.0.0.1 - - [06/Feb/2020 11:08:28] \"GET /favicon.ico HTTP/1.1\" 404 -\n",
      "127.0.0.1 - - [06/Feb/2020 11:12:14] \"GET /home HTTP/1.1\" 200 -\n",
      "127.0.0.1 - - [06/Feb/2020 11:14:01] \"GET / HTTP/1.1\" 404 -\n",
      "127.0.0.1 - - [06/Feb/2020 11:40:09] \"GET / HTTP/1.1\" 404 -\n",
      "127.0.0.1 - - [06/Feb/2020 11:40:26] \"GET / HTTP/1.1\" 404 -\n",
      "127.0.0.1 - - [06/Feb/2020 11:42:06] \"GET / HTTP/1.1\" 404 -\n",
      "127.0.0.1 - - [06/Feb/2020 11:53:32] \"GET / HTTP/1.1\" 404 -\n",
      "127.0.0.1 - - [06/Feb/2020 11:53:46] \"GET / HTTP/1.1\" 404 -\n",
      "127.0.0.1 - - [06/Feb/2020 11:53:49] \"GET / HTTP/1.1\" 404 -\n",
      "127.0.0.1 - - [06/Feb/2020 11:53:49] \"GET / HTTP/1.1\" 404 -\n",
      "127.0.0.1 - - [06/Feb/2020 11:54:03] \"GET / HTTP/1.1\" 404 -\n",
      "127.0.0.1 - - [06/Feb/2020 11:54:03] \"GET / HTTP/1.1\" 404 -\n",
      "127.0.0.1 - - [06/Feb/2020 11:54:04] \"GET / HTTP/1.1\" 404 -\n",
      "127.0.0.1 - - [06/Feb/2020 11:54:04] \"GET / HTTP/1.1\" 404 -\n",
      "127.0.0.1 - - [06/Feb/2020 11:54:05] \"GET / HTTP/1.1\" 404 -\n",
      "127.0.0.1 - - [06/Feb/2020 11:54:05] \"GET / HTTP/1.1\" 404 -\n",
      "127.0.0.1 - - [06/Feb/2020 11:54:05] \"GET / HTTP/1.1\" 404 -\n",
      "127.0.0.1 - - [06/Feb/2020 11:57:33] \"GET / HTTP/1.1\" 404 -\n"
     ]
    }
   ],
   "source": [
    "app.run()"
   ]
  },
  {
   "cell_type": "code",
   "execution_count": null,
   "metadata": {},
   "outputs": [],
   "source": []
  }
 ],
 "metadata": {
  "kernelspec": {
   "display_name": "Python 3",
   "language": "python",
   "name": "python3"
  },
  "language_info": {
   "codemirror_mode": {
    "name": "ipython",
    "version": 3
   },
   "file_extension": ".py",
   "mimetype": "text/x-python",
   "name": "python",
   "nbconvert_exporter": "python",
   "pygments_lexer": "ipython3",
   "version": "3.6.5"
  }
 },
 "nbformat": 4,
 "nbformat_minor": 2
}
