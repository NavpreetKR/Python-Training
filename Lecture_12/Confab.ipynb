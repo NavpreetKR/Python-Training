{
 "cells": [
  {
   "cell_type": "code",
   "execution_count": 1,
   "metadata": {},
   "outputs": [],
   "source": [
    "from flask import Flask, request\n",
    "import requests, json"
   ]
  },
  {
   "cell_type": "code",
   "execution_count": 2,
   "metadata": {},
   "outputs": [],
   "source": [
    "app = Flask(\"Hello\")\n",
    "token = \"1234567890\""
   ]
  },
  {
   "cell_type": "code",
   "execution_count": 3,
   "metadata": {},
   "outputs": [],
   "source": [
    "def bot(recipient, text):\n",
    "    url = r\"https://graph.facebook.com/v6.0/me/messages?access_token=EAAHaCPCiwiwBAAvspaboVfh64WkZAofTnRtTmgG9BmZCPBJNelbaoUhk4xkkUjsPNwBBgLjRVnJs3xC8Em7kCVavWICWhZBlXfd3saFaBjZC2leP1ZAA1qvt7DqIOap0PzZAy5CwRloidRJAcnn0fevOeeqTDDZBZBTNiMoRmYPq4tg1RCNV2e1T\" \n",
    "    \n",
    "    d1 = {\n",
    "      \"recipient\":{\n",
    "        \"id\": recipient\n",
    "      },\n",
    "      \"message\":{\n",
    "        \"text\":\"bot says \" + text\n",
    "      }\n",
    "    }\n",
    "    \n",
    "    d2 = {\n",
    "      \"recipient\":{\n",
    "        \"id\": recipient\n",
    "      },\n",
    "      \"message\":{\n",
    "        \"attachment\" : {\n",
    "            \"type\" : \"image\",\n",
    "            \"payload\" : {\n",
    "                \"url\" : r\"https://c402277.ssl.cf1.rackcdn.com/photos/18315/images/hero_small/Medium_WW230176.jpg?1576168323\",\n",
    "                \"is_reusable\": True\n",
    "            }\n",
    "        }\n",
    "      }\n",
    "    }\n",
    "    \n",
    "    requests.post(url, json=d1)\n",
    "    requests.post(url, json=d2)\n"
   ]
  },
  {
   "cell_type": "code",
   "execution_count": 4,
   "metadata": {},
   "outputs": [],
   "source": [
    "@app.route(\"/check\", methods=['GET'])\n",
    "def sayhi():\n",
    "    return \"working\"\n",
    "\n",
    "@app.route(\"/callback/\", methods=['GET'])\n",
    "def get_callback():\n",
    "    if token == request.args.get(\"hub.verify_token\"):\n",
    "        return request.args.get(\"hub.challenge\")\n",
    "    else:\n",
    "        return \"Not working\"\n",
    "    \n",
    "@app.route(\"/callback/\", methods=['POST'])\n",
    "def post_callback():\n",
    "    output = request.get_json()   #Javascript Object Notation\n",
    "    for entry in output.get(\"entry\"):\n",
    "        if \"messaging\" in entry:\n",
    "            for messaging in entry.get(\"messaging\"):\n",
    "                sender = messaging.get(\"sender\").get(\"id\")\n",
    "                recipient = messaging.get(\"recipient\").get(\"id\")\n",
    "                if \"text\" in messaging.get(\"message\"):\n",
    "                    text = messaging.get(\"message\").get(\"text\")\n",
    "                    \n",
    "                print(sender, recipient, text)\n",
    "                bot(sender, text)\n",
    "\n",
    "    return \"done\""
   ]
  },
  {
   "cell_type": "code",
   "execution_count": null,
   "metadata": {},
   "outputs": [
    {
     "name": "stderr",
     "output_type": "stream",
     "text": [
      " * Running on http://127.0.0.1:5000/ (Press CTRL+C to quit)\n"
     ]
    },
    {
     "name": "stdout",
     "output_type": "stream",
     "text": [
      "2789391534437685 104286724481425 Oh right, thats me\n"
     ]
    },
    {
     "name": "stderr",
     "output_type": "stream",
     "text": [
      "127.0.0.1 - - [10/Feb/2020 14:05:38] \"POST /callback/ HTTP/1.1\" 200 -\n"
     ]
    },
    {
     "name": "stdout",
     "output_type": "stream",
     "text": [
      "2789391534437685 104286724481425 jdfhutrhio\n"
     ]
    },
    {
     "name": "stderr",
     "output_type": "stream",
     "text": [
      "127.0.0.1 - - [10/Feb/2020 14:05:42] \"POST /callback/ HTTP/1.1\" 200 -\n"
     ]
    },
    {
     "name": "stdout",
     "output_type": "stream",
     "text": [
      "2789391534437685 104286724481425 The bags under my eyes are GUCCI\n"
     ]
    },
    {
     "name": "stderr",
     "output_type": "stream",
     "text": [
      "127.0.0.1 - - [10/Feb/2020 14:07:02] \"POST /callback/ HTTP/1.1\" 200 -\n"
     ]
    }
   ],
   "source": [
    "app.run()"
   ]
  },
  {
   "cell_type": "code",
   "execution_count": null,
   "metadata": {},
   "outputs": [],
   "source": [
    "# .get() is a safer option instead of directly accesimg the elements of the dict"
   ]
  }
 ],
 "metadata": {
  "kernelspec": {
   "display_name": "Python 3",
   "language": "python",
   "name": "python3"
  },
  "language_info": {
   "codemirror_mode": {
    "name": "ipython",
    "version": 3
   },
   "file_extension": ".py",
   "mimetype": "text/x-python",
   "name": "python",
   "nbconvert_exporter": "python",
   "pygments_lexer": "ipython3",
   "version": "3.6.5"
  }
 },
 "nbformat": 4,
 "nbformat_minor": 2
}
