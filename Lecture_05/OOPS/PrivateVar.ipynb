{
 "cells": [
  {
   "cell_type": "code",
   "execution_count": 49,
   "metadata": {},
   "outputs": [],
   "source": [
    "class Human():\n",
    "    def __init__(self,pw):\n",
    "        self.__age = 0      #private var, accessible within the class\n",
    "        self.pw = pw\n",
    "    def getAge(self):\n",
    "        return self.__age\n",
    "    def setAge(self,age):\n",
    "        if age in range(self.__age - 1,self.__age + 2):\n",
    "            self.__age = age\n",
    "        print(\"You messing with the age bro\")\n",
    "    def changeAge(self,age,pw):\n",
    "        if pw != self.pw:\n",
    "            return\n",
    "        self.__age = age\n",
    "    def changepw(self, current, updated):\n",
    "        if current != self.pw:\n",
    "            print(\"Pehli fursat mai nikal\")\n",
    "            return\n",
    "        self.pw = updated\n",
    "        print(\"the password has been updated baby!\")\n",
    "        \n",
    "    def smoke(weed):    #weed will disguise as 1st parameter(self) since its high anyways\n",
    "        print(weed)     # SO EVEN THOUGH THIS SHIT WORKS, U'RE A JERK IF U REALLY PUT IT INTO USE"
   ]
  },
  {
   "cell_type": "code",
   "execution_count": 50,
   "metadata": {},
   "outputs": [
    {
     "name": "stdout",
     "output_type": "stream",
     "text": [
      "You messing with the age bro\n"
     ]
    },
    {
     "data": {
      "text/plain": [
       "1"
      ]
     },
     "execution_count": 50,
     "metadata": {},
     "output_type": "execute_result"
    }
   ],
   "source": [
    "Musk = Human(\"elon\")\n",
    "Musk.setAge(1)\n",
    "Musk.getAge()"
   ]
  },
  {
   "cell_type": "code",
   "execution_count": 51,
   "metadata": {},
   "outputs": [
    {
     "data": {
      "text/plain": [
       "30"
      ]
     },
     "execution_count": 51,
     "metadata": {},
     "output_type": "execute_result"
    }
   ],
   "source": [
    "Musk.changeAge(30,\"elon\")\n",
    "Musk.getAge()"
   ]
  },
  {
   "cell_type": "code",
   "execution_count": 52,
   "metadata": {},
   "outputs": [
    {
     "name": "stdout",
     "output_type": "stream",
     "text": [
      "the password has been updated baby!\n"
     ]
    }
   ],
   "source": [
    "Musk.changepw(\"elon\",\"spaceX\")"
   ]
  },
  {
   "cell_type": "code",
   "execution_count": 54,
   "metadata": {},
   "outputs": [
    {
     "name": "stdout",
     "output_type": "stream",
     "text": [
      "<__main__.Human object at 0x00000182DE7EDA58>\n"
     ]
    }
   ],
   "source": [
    "Musk.smoke()"
   ]
  },
  {
   "cell_type": "code",
   "execution_count": 55,
   "metadata": {},
   "outputs": [
    {
     "name": "stdout",
     "output_type": "stream",
     "text": [
      "High on weed\n"
     ]
    }
   ],
   "source": [
    "Human.smoke(\"High on weed\")"
   ]
  },
  {
   "cell_type": "code",
   "execution_count": 57,
   "metadata": {},
   "outputs": [
    {
     "ename": "TypeError",
     "evalue": "smoke() takes 1 positional argument but 2 were given",
     "output_type": "error",
     "traceback": [
      "\u001b[1;31m---------------------------------------------------------------------------\u001b[0m",
      "\u001b[1;31mTypeError\u001b[0m                                 Traceback (most recent call last)",
      "\u001b[1;32m<ipython-input-57-cb82bc3b9fcc>\u001b[0m in \u001b[0;36m<module>\u001b[1;34m()\u001b[0m\n\u001b[1;32m----> 1\u001b[1;33m \u001b[0mMusk\u001b[0m\u001b[1;33m.\u001b[0m\u001b[0msmoke\u001b[0m\u001b[1;33m(\u001b[0m\u001b[1;34m\"Smoke Weed Everyday\"\u001b[0m\u001b[1;33m)\u001b[0m\u001b[1;33m\u001b[0m\u001b[0m\n\u001b[0m",
      "\u001b[1;31mTypeError\u001b[0m: smoke() takes 1 positional argument but 2 were given"
     ]
    }
   ],
   "source": [
    "Musk.smoke(\"Smoke Weed Everyday\")   #since weed thinks its self "
   ]
  },
  {
   "cell_type": "code",
   "execution_count": 70,
   "metadata": {},
   "outputs": [],
   "source": [
    "class A():\n",
    "    def __init__(self):\n",
    "        print(\"referring\")\n",
    "    def __del__(self):\n",
    "        print(\"dereferring\")\n"
   ]
  },
  {
   "cell_type": "code",
   "execution_count": 71,
   "metadata": {},
   "outputs": [
    {
     "name": "stdout",
     "output_type": "stream",
     "text": [
      "referring\n"
     ]
    }
   ],
   "source": [
    "a = A()"
   ]
  },
  {
   "cell_type": "code",
   "execution_count": 72,
   "metadata": {},
   "outputs": [
    {
     "name": "stdout",
     "output_type": "stream",
     "text": [
      "dereferring\n"
     ]
    }
   ],
   "source": [
    "del(a)"
   ]
  },
  {
   "cell_type": "code",
   "execution_count": 76,
   "metadata": {},
   "outputs": [
    {
     "name": "stdout",
     "output_type": "stream",
     "text": [
      "referring\n"
     ]
    }
   ],
   "source": [
    "b = A()"
   ]
  },
  {
   "cell_type": "code",
   "execution_count": 77,
   "metadata": {},
   "outputs": [
    {
     "data": {
      "text/plain": [
       "<__main__.A at 0x182de7fc588>"
      ]
     },
     "execution_count": 77,
     "metadata": {},
     "output_type": "execute_result"
    }
   ],
   "source": [
    "b"
   ]
  },
  {
   "cell_type": "code",
   "execution_count": 78,
   "metadata": {},
   "outputs": [],
   "source": [
    "del(b) # since b is hidden(stored) in the shades it cannot be derefrenced until its nowhere to be found."
   ]
  },
  {
   "cell_type": "code",
   "execution_count": null,
   "metadata": {},
   "outputs": [],
   "source": []
  }
 ],
 "metadata": {
  "kernelspec": {
   "display_name": "Python 3",
   "language": "python",
   "name": "python3"
  },
  "language_info": {
   "codemirror_mode": {
    "name": "ipython",
    "version": 3
   },
   "file_extension": ".py",
   "mimetype": "text/x-python",
   "name": "python",
   "nbconvert_exporter": "python",
   "pygments_lexer": "ipython3",
   "version": "3.6.5"
  }
 },
 "nbformat": 4,
 "nbformat_minor": 2
}
