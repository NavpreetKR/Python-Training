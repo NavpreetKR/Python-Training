{
 "cells": [
  {
   "cell_type": "code",
   "execution_count": 110,
   "metadata": {},
   "outputs": [],
   "source": [
    "class Human():\n",
    "    \n",
    "    listing = []            #try using unique adharID to find n kill a person\n",
    "    population = 0         #static var (not a static cause it depends on self)\n",
    "    \n",
    "    def __init__(self,name = \"Brat\",age = \"0\"):  \n",
    "        self.name = name  \n",
    "        self.age = age\n",
    "        self.alive = True\n",
    "        \n",
    "        Human.population += 1  #class var\n",
    "        Human.listing.append(self)\n",
    "        \n",
    "    def __repr__(self):   #representation override\n",
    "        return \"Name : {}, Age : {}, Alive: {}\".format(self.name,self.age,self.alive)\n",
    "    \n",
    "    def die(self):\n",
    "        self.alive = False\n",
    "        Human.population -= 1\n",
    "        \n",
    "    @classmethod\n",
    "    def shoot(cls, list_acc, target):\n",
    "        if sum(map(lambda x:x.alive, list_acc)) >= 3:\n",
    "                target.die()   \n",
    "        else:\n",
    "            print(\"You are short of accomplishments\")\n",
    "    \n",
    "    @classmethod\n",
    "    def genesis(cls):\n",
    "        populaiotn = 0\n",
    "        for item in Human.listing:\n",
    "            item.alive = False\n",
    "            \n",
    "class Hitman(Human):\n",
    "   \n",
    "    def __init__(self, name=\"Hitter\", age=0):\n",
    "        super().__init__(name,age)\n",
    "        self.kills = 0\n",
    "        \n",
    "    def shoot(self, person):\n",
    "        if not self.alive:\n",
    "            print(\"Hitman is already dead\")\n",
    "        elif self == person:\n",
    "            print(\"Man up dude\")\n",
    "        elif not person.alive:\n",
    "            print(\"Target doesn't exist anymore\")\n",
    "        else:\n",
    "            self.kills += 1\n",
    "            person.die()"
   ]
  },
  {
   "cell_type": "code",
   "execution_count": 111,
   "metadata": {},
   "outputs": [],
   "source": [
    "Thanos = Hitman(\"Thanos\",45)"
   ]
  },
  {
   "cell_type": "code",
   "execution_count": 112,
   "metadata": {},
   "outputs": [],
   "source": [
    "robert = Hitman(\"Robert\",34)\n",
    "tom = Hitman(\"Tom\",3)\n",
    "widow = Human(\"Scarlet\",29)\n",
    "witch = Human(\"Witch\",27)\n",
    "pablo = Human(\"Pablo\", 50)"
   ]
  },
  {
   "cell_type": "code",
   "execution_count": 113,
   "metadata": {},
   "outputs": [],
   "source": [
    "chris = Human(\"Chris\",32)"
   ]
  },
  {
   "cell_type": "code",
   "execution_count": 114,
   "metadata": {},
   "outputs": [],
   "source": [
    "Thanos.shoot(chris)"
   ]
  },
  {
   "cell_type": "code",
   "execution_count": 115,
   "metadata": {},
   "outputs": [],
   "source": [
    "Thanos.shoot(robert)"
   ]
  },
  {
   "cell_type": "code",
   "execution_count": 116,
   "metadata": {},
   "outputs": [
    {
     "data": {
      "text/plain": [
       "False"
      ]
     },
     "execution_count": 116,
     "metadata": {},
     "output_type": "execute_result"
    }
   ],
   "source": [
    "robert.alive"
   ]
  },
  {
   "cell_type": "code",
   "execution_count": 117,
   "metadata": {},
   "outputs": [
    {
     "data": {
      "text/plain": [
       "2"
      ]
     },
     "execution_count": 117,
     "metadata": {},
     "output_type": "execute_result"
    }
   ],
   "source": [
    "Thanos.kills"
   ]
  },
  {
   "cell_type": "code",
   "execution_count": 118,
   "metadata": {},
   "outputs": [
    {
     "name": "stdout",
     "output_type": "stream",
     "text": [
      "Target doesn't exist anymore\n"
     ]
    }
   ],
   "source": [
    "Thanos.shoot(chris)"
   ]
  },
  {
   "cell_type": "code",
   "execution_count": 119,
   "metadata": {},
   "outputs": [
    {
     "name": "stdout",
     "output_type": "stream",
     "text": [
      "Hitman is already dead\n"
     ]
    }
   ],
   "source": [
    "robert.shoot(Thanos)"
   ]
  },
  {
   "cell_type": "code",
   "execution_count": 120,
   "metadata": {},
   "outputs": [],
   "source": [
    "tom.shoot(Thanos)"
   ]
  },
  {
   "cell_type": "code",
   "execution_count": 121,
   "metadata": {},
   "outputs": [],
   "source": [
    "pablo.shoot([pablo,witch,widow],tom)"
   ]
  },
  {
   "cell_type": "code",
   "execution_count": 109,
   "metadata": {},
   "outputs": [
    {
     "data": {
      "text/plain": [
       "[Name : Thanos, Age : 45, Alive: False,\n",
       " Name : Robert, Age : 34, Alive: False,\n",
       " Name : Tom, Age : 3, Alive: True,\n",
       " Name : Scarlet, Age : 29, Alive: True,\n",
       " Name : Witch, Age : 27, Alive: True,\n",
       " Name : Pablo, Age : 50, Alive: True,\n",
       " Name : Chris, Age : 32, Alive: False]"
      ]
     },
     "execution_count": 109,
     "metadata": {},
     "output_type": "execute_result"
    }
   ],
   "source": [
    "Human.listing"
   ]
  },
  {
   "cell_type": "code",
   "execution_count": 123,
   "metadata": {},
   "outputs": [
    {
     "data": {
      "text/plain": [
       "False"
      ]
     },
     "execution_count": 123,
     "metadata": {},
     "output_type": "execute_result"
    }
   ],
   "source": [
    "tom.alive"
   ]
  },
  {
   "cell_type": "code",
   "execution_count": null,
   "metadata": {},
   "outputs": [],
   "source": []
  }
 ],
 "metadata": {
  "kernelspec": {
   "display_name": "Python 3",
   "language": "python",
   "name": "python3"
  },
  "language_info": {
   "codemirror_mode": {
    "name": "ipython",
    "version": 3
   },
   "file_extension": ".py",
   "mimetype": "text/x-python",
   "name": "python",
   "nbconvert_exporter": "python",
   "pygments_lexer": "ipython3",
   "version": "3.6.5"
  }
 },
 "nbformat": 4,
 "nbformat_minor": 2
}
